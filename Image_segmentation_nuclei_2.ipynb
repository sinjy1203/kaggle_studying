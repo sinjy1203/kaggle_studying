{
 "cells": [
  {
   "cell_type": "markdown",
   "id": "cdf82db6",
   "metadata": {},
   "source": [
    "# Keras U-Net starter - LB 0.277"
   ]
  },
  {
   "cell_type": "code",
   "execution_count": 1,
   "id": "b96b43d2",
   "metadata": {},
   "outputs": [
    {
     "name": "stderr",
     "output_type": "stream",
     "text": [
      "C:\\Users\\sinjy\\anaconda3\\envs\\machine-learning\\lib\\site-packages\\skimage\\io\\manage_plugins.py:23: UserWarning: Your installed pillow version is < 8.1.2. Several security issues (CVE-2021-27921, CVE-2021-25290, CVE-2021-25291, CVE-2021-25293, and more) have been fixed in pillow 8.1.2 or higher. We recommend to upgrade this library.\n",
      "  from .collection import imread_collection_wrapper\n"
     ]
    }
   ],
   "source": [
    "import os\n",
    "import sys\n",
    "import random\n",
    "import warnings\n",
    "\n",
    "import numpy as np\n",
    "import pandas as pd\n",
    "\n",
    "import matplotlib.pyplot as plt\n",
    "\n",
    "from tqdm import tqdm\n",
    "from itertools import chain\n",
    "from skimage.io import imread, imshow, imread_collection, concatenate_images\n",
    "from skimage.transform import resize\n",
    "from skimage.morphology import label\n",
    "\n",
    "from tensorflow.keras.models import Model, load_model\n",
    "from tensorflow.keras.layers import Input\n",
    "from tensorflow.keras.layers import Dropout, Lambda\n",
    "from tensorflow.keras.layers import Conv2D, Conv2DTranspose\n",
    "from tensorflow.keras.layers import MaxPooling2D\n",
    "from tensorflow.keras.layers import concatenate\n",
    "from tensorflow.keras.callbacks import EarlyStopping, ModelCheckpoint\n",
    "# from tensorflow.keras import backend as K\n",
    "import tensorflow.compat.v1.keras.backend as K\n",
    "\n",
    "import tensorflow as tf"
   ]
  },
  {
   "cell_type": "code",
   "execution_count": 2,
   "id": "63fbab45",
   "metadata": {},
   "outputs": [],
   "source": [
    "from pathlib import Path\n",
    "\n",
    "IMG_WIDTH = 128\n",
    "IMG_HEIGHT = 128\n",
    "IMG_CHANNELS = 3\n",
    "\n",
    "ROOT_DIR = Path('C:/Users/sinjy/jupyter_notebook/datasets')\n",
    "DATA_DIR = ROOT_DIR / 'kaggle_datasets' / 'nuclei'\n",
    "TRAIN_PATH = DATA_DIR / 'stage1_train'\n",
    "TEST_PATH = DATA_DIR / 'stage1_test'\n",
    "\n",
    "warnings.filterwarnings('ignore', category=UserWarning, module='skimage')\n",
    "seed = 42\n",
    "random.seed = seed\n",
    "np.random.seed = seed"
   ]
  },
  {
   "cell_type": "code",
   "execution_count": 3,
   "id": "0b863797",
   "metadata": {},
   "outputs": [],
   "source": [
    "train_ids = next(os.walk(TRAIN_PATH))[1]\n",
    "test_ids = next(os.walk(TEST_PATH))[1]"
   ]
  },
  {
   "cell_type": "markdown",
   "id": "c83866ed",
   "metadata": {},
   "source": [
    "## Get the data"
   ]
  },
  {
   "cell_type": "markdown",
   "id": "f7c87ca8",
   "metadata": {},
   "source": [
    "### resize image"
   ]
  },
  {
   "cell_type": "code",
   "execution_count": 4,
   "id": "c1d4b4c7",
   "metadata": {},
   "outputs": [
    {
     "name": "stdout",
     "output_type": "stream",
     "text": [
      "Getting and resizing train images and masks ...\n"
     ]
    },
    {
     "name": "stderr",
     "output_type": "stream",
     "text": [
      "C:\\Users\\sinjy\\anaconda3\\envs\\machine-learning\\lib\\site-packages\\ipykernel_launcher.py:2: DeprecationWarning: `np.bool` is a deprecated alias for the builtin `bool`. To silence this warning, use `bool` by itself. Doing this will not modify any behavior and is safe. If you specifically wanted the numpy scalar type, use `np.bool_` here.\n",
      "Deprecated in NumPy 1.20; for more details and guidance: https://numpy.org/devdocs/release/1.20.0-notes.html#deprecations\n",
      "  \n",
      "  0%|                                                                                          | 0/670 [00:00<?, ?it/s]C:\\Users\\sinjy\\anaconda3\\envs\\machine-learning\\lib\\site-packages\\ipykernel_launcher.py:10: DeprecationWarning: `np.bool` is a deprecated alias for the builtin `bool`. To silence this warning, use `bool` by itself. Doing this will not modify any behavior and is safe. If you specifically wanted the numpy scalar type, use `np.bool_` here.\n",
      "Deprecated in NumPy 1.20; for more details and guidance: https://numpy.org/devdocs/release/1.20.0-notes.html#deprecations\n",
      "  # Remove the CWD from sys.path while we load stuff.\n",
      "100%|████████████████████████████████████████████████████████████████████████████████| 670/670 [13:06<00:00,  1.17s/it]\n"
     ]
    }
   ],
   "source": [
    "X_train = np.zeros((len(train_ids), IMG_HEIGHT, IMG_WIDTH, IMG_CHANNELS), dtype=np.uint8)\n",
    "Y_train = np.zeros((len(train_ids), IMG_HEIGHT, IMG_WIDTH, 1), dtype=np.bool)\n",
    "print('Getting and resizing train images and masks ...')\n",
    "sys.stdout.flush()\n",
    "for n, id_ in tqdm(enumerate(train_ids), total=len(train_ids)):\n",
    "    path = TRAIN_PATH / id_\n",
    "    img = imread(path / 'images' / (id_ + '.png'))[:, :, :IMG_CHANNELS]\n",
    "    img = resize(img, (IMG_HEIGHT, IMG_WIDTH), mode='constant', preserve_range=True)\n",
    "    X_train[n] = img\n",
    "    mask = np.zeros((IMG_HEIGHT, IMG_WIDTH, 1), dtype=np.bool)\n",
    "    for mask_file in next(os.walk(path / 'masks'))[2]:\n",
    "        mask_ = imread(path / 'masks' / mask_file)\n",
    "        mask_ = np.expand_dims(resize(mask_, (IMG_HEIGHT, IMG_WIDTH), mode='constant', preserve_range=True),\n",
    "                               axis=-1)\n",
    "        mask = np.maximum(mask, mask_)\n",
    "    Y_train[n] = mask"
   ]
  },
  {
   "cell_type": "code",
   "execution_count": 5,
   "id": "66aae7b8",
   "metadata": {},
   "outputs": [
    {
     "name": "stdout",
     "output_type": "stream",
     "text": [
      "Getting and resizing test images ...\n"
     ]
    },
    {
     "name": "stderr",
     "output_type": "stream",
     "text": [
      "100%|██████████████████████████████████████████████████████████████████████████████████| 65/65 [00:03<00:00, 17.39it/s]"
     ]
    },
    {
     "name": "stdout",
     "output_type": "stream",
     "text": [
      "Done!\n"
     ]
    },
    {
     "name": "stderr",
     "output_type": "stream",
     "text": [
      "\n"
     ]
    }
   ],
   "source": [
    "X_test = np.zeros((len(test_ids), IMG_HEIGHT, IMG_WIDTH, IMG_CHANNELS), dtype=np.uint8)\n",
    "sizes_test = []\n",
    "print('Getting and resizing test images ...')\n",
    "sys.stdout.flush()\n",
    "for n, id_ in tqdm(enumerate(test_ids), total=len(test_ids)):\n",
    "    path = TEST_PATH / id_\n",
    "    img = imread(path / 'images' / (id_ + '.png'))[:, :, :IMG_CHANNELS]\n",
    "    sizes_test.append([img.shape[0], img.shape[1]])\n",
    "    img = resize(img, (IMG_HEIGHT, IMG_WIDTH), mode='constant', preserve_range=True)\n",
    "    X_test[n] = img\n",
    "\n",
    "print('Done!')"
   ]
  },
  {
   "cell_type": "markdown",
   "id": "973e65e9",
   "metadata": {},
   "source": [
    "### check mask"
   ]
  },
  {
   "cell_type": "code",
   "execution_count": 6,
   "id": "1ed7b8c5",
   "metadata": {},
   "outputs": [
    {
     "data": {
      "image/png": "[encoded data removed]",
      "text/plain": [
       "<Figure size 432x288 with 1 Axes>"
      ]
     },
     "metadata": {
      "needs_background": "light"
     },
     "output_type": "display_data"
    },
    {
     "data": {
      "image/png": "[encoded data removed]",
      "text/plain": [
       "<Figure size 432x288 with 1 Axes>"
      ]
     },
     "metadata": {
      "needs_background": "light"
     },
     "output_type": "display_data"
    }
   ],
   "source": [
    "ix = random.randint(0, len(train_ids))\n",
    "imshow(X_train[ix])\n",
    "plt.show()\n",
    "imshow(np.squeeze(Y_train[ix]))\n",
    "plt.show()"
   ]
  },
  {
   "cell_type": "markdown",
   "id": "061fbdcc",
   "metadata": {},
   "source": [
    "## Create our Keras metric"
   ]
  },
  {
   "cell_type": "code",
   "execution_count": 25,
   "id": "004ec961",
   "metadata": {},
   "outputs": [],
   "source": [
    "tf.config.run_functions_eagerly(True)\n",
    "def mean_iou(y_true, y_pred):\n",
    "    meaniou = tf.keras.metrics.MeanIoU(2)\n",
    "    prec = []\n",
    "    for t in np.arange(0.5, 1.0, 0.05):\n",
    "        y_pred_ = tf.cast(y_pred > t, tf.int32)\n",
    "        score = meaniou(y_true, y_pred_)\n",
    "        prec.append(score)\n",
    "    return K.mean(K.stack(prec), axis=0)\n",
    "\n",
    "# class MeanIou(tf.keras.metrics.Metric):\n",
    "#     def __init__(self):\n",
    "#         super(MeanIou, self).__init__()\n",
    "#         self.mean_iou = tf.keras.metrics.MeanIoU(2)\n",
    "    \n",
    "#     def update_state(self, y_true, y_pred, sample_weight=None):\n",
    "#         prec = []\n",
    "#         for t in np.arange(0.5, 1.0, 0.05):\n",
    "#             y_pred_ = tf.cast(y_pred > t, tf.int32)\n",
    "#             score = self.mean_iou(y_true, y_pred_)\n",
    "#             prec.append(score)\n",
    "#         self.ans =  K.mean(K.stack(prec), axis=0)\n",
    "    \n",
    "#     def result(self):\n",
    "#         return self.ans"
   ]
  },
  {
   "cell_type": "markdown",
   "id": "2ccc329d",
   "metadata": {},
   "source": [
    "## Build and train our neural network"
   ]
  },
  {
   "cell_type": "markdown",
   "id": "489d8165",
   "metadata": {},
   "source": [
    "### Build U-Net model"
   ]
  },
  {
   "cell_type": "code",
   "execution_count": 26,
   "id": "c5d4ab77",
   "metadata": {},
   "outputs": [],
   "source": [
    "class DownConv(tf.keras.layers.Layer):\n",
    "    def __init__(self, filters, pool):\n",
    "        super(DownConv, self).__init__()\n",
    "        self.pool = pool\n",
    "        self.c1 = Conv2D(\n",
    "            filters, (3, 3), activation='elu', kernel_initializer='he_normal', \n",
    "            padding='same')\n",
    "        self.dropout = Dropout(0.2)\n",
    "        self.c2 = Conv2D(\n",
    "            filters, (3, 3), activation='elu', kernel_initializer='he_normal', \n",
    "            padding='same')\n",
    "        if pool:\n",
    "            self.pool = MaxPooling2D((2, 2))\n",
    "    def call(self, x):\n",
    "        x = self.c1(x)\n",
    "        x = self.dropout(x)\n",
    "        c = self.c2(x)\n",
    "        if self.pool:\n",
    "            p = self.pool(c)\n",
    "            return c, p\n",
    "        return c\n",
    "\n",
    "class UpConv(tf.keras.layers.Layer):\n",
    "    def __init__(self, filters):\n",
    "        super(UpConv, self).__init__()\n",
    "        self.ct1 = Conv2DTranspose(filters, (2, 2), strides=(2, 2), \n",
    "                                   padding='same')\n",
    "        self.c1 = Conv2D(\n",
    "            filters, (3, 3), activation='elu', kernel_initializer='he_normal', \n",
    "            padding='same')\n",
    "        self.dropout = Dropout(0.2)\n",
    "        self.c2 = Conv2D(\n",
    "            filters, (3, 3), activation='elu', kernel_initializer='he_normal', \n",
    "            padding='same')\n",
    "    def call(self, x, d):\n",
    "        x = self.ct1(x)\n",
    "        x = concatenate([x, d])\n",
    "        x = self.c1(x)\n",
    "        x = self.dropout(x)\n",
    "        x = self.c2(x)\n",
    "        return x\n",
    "    \n",
    "class Encoder(tf.keras.layers.Layer):\n",
    "    def __init__(self, filters_lst):\n",
    "        super(Encoder, self).__init__()\n",
    "        self.blocks = [DownConv(filters, True) for filters in filters_lst]\n",
    "        self.conv = DownConv(256, False)\n",
    "    def call(self, x):\n",
    "        c_lst = []\n",
    "        p = x\n",
    "        for block in self.blocks:\n",
    "            c, p = block(p)\n",
    "            c_lst += [c]\n",
    "        p = self.conv(p)\n",
    "        return p, c_lst\n",
    "    \n",
    "class Decoder(tf.keras.layers.Layer):\n",
    "    def __init__(self, filters_lst):\n",
    "        super(Decoder, self).__init__()\n",
    "        self.blocks = [UpConv(filters) for filters in filters_lst[::-1]]\n",
    "        self.conv = Conv2D(1, (1, 1), activation='sigmoid')\n",
    "    def call(self, p, c_lst):\n",
    "        for block, c in zip(self.blocks, c_lst[::-1]):\n",
    "            p = block(p, c)\n",
    "        p = self.conv(p)\n",
    "        return p\n",
    "    \n",
    "class UNet(tf.keras.Model):\n",
    "    def __init__(self, filters_lst=[16, 32, 64, 128]):\n",
    "        super(UNet, self).__init__()\n",
    "        self.scaler = Lambda(lambda x: x / 255)\n",
    "        self.encoder = Encoder(filters_lst)\n",
    "        self.decoder = Decoder(filters_lst)\n",
    "    def call(self, x):\n",
    "        x = self.scaler(x)\n",
    "        p, c_lst = self.encoder(x)\n",
    "        y = self.decoder(p, c_lst)\n",
    "        return y\n",
    "    def summary(self):\n",
    "        x = tf.keras.layers.Input(shape=[IMG_WIDTH, IMG_HEIGHT, IMG_CHANNELS])\n",
    "        model = tf.keras.Model(inputs=[x], outputs=self.call(x))\n",
    "        return model.summary()"
   ]
  },
  {
   "cell_type": "code",
   "execution_count": 27,
   "id": "48446735",
   "metadata": {},
   "outputs": [
    {
     "name": "stdout",
     "output_type": "stream",
     "text": [
      "Model: \"model_5\"\n",
      "__________________________________________________________________________________________________\n",
      "Layer (type)                    Output Shape         Param #     Connected to                     \n",
      "==================================================================================================\n",
      "input_6 (InputLayer)            [(None, 128, 128, 3) 0                                            \n",
      "__________________________________________________________________________________________________\n",
      "lambda_5 (Lambda)               (None, 128, 128, 3)  0           input_6[0][0]                    \n",
      "__________________________________________________________________________________________________\n",
      "encoder_5 (Encoder)             ((None, 8, 8, 256),  1178768     lambda_5[0][0]                   \n",
      "__________________________________________________________________________________________________\n",
      "decoder_5 (Decoder)             (None, 128, 128, 1)  762337      encoder_5[0][0]                  \n",
      "                                                                 encoder_5[0][1]                  \n",
      "                                                                 encoder_5[0][2]                  \n",
      "                                                                 encoder_5[0][3]                  \n",
      "                                                                 encoder_5[0][4]                  \n",
      "==================================================================================================\n",
      "Total params: 1,941,105\n",
      "Trainable params: 1,941,105\n",
      "Non-trainable params: 0\n",
      "__________________________________________________________________________________________________\n"
     ]
    }
   ],
   "source": [
    "model = UNet()\n",
    "model.compile(optimizer='adam', loss='binary_crossentropy', metrics=[mean_iou])\n",
    "model.summary()"
   ]
  },
  {
   "cell_type": "code",
   "execution_count": 28,
   "id": "506b2afb",
   "metadata": {},
   "outputs": [
    {
     "name": "stderr",
     "output_type": "stream",
     "text": [
      "C:\\Users\\sinjy\\AppData\\Roaming\\Python\\Python37\\site-packages\\tensorflow\\python\\data\\ops\\dataset_ops.py:3704: UserWarning: Even though the `tf.config.experimental_run_functions_eagerly` option is set, this option does not apply to tf.data functions. To force eager execution of tf.data functions, please use `tf.data.experimental.enable.debug_mode()`.\n",
      "  \"Even though the `tf.config.experimental_run_functions_eagerly` \"\n"
     ]
    },
    {
     "name": "stdout",
     "output_type": "stream",
     "text": [
      "Epoch 1/50\n",
      "38/38 [==============================] - 69s 2s/step - loss: 0.5038 - mean_iou: 0.4616 - val_loss: 0.2965 - val_mean_iou: 0.6488\n",
      "\n",
      "Epoch 00001: val_loss improved from inf to 0.29648, saving model to C:/Users/sinjy/jupyter_notebook/model\\model-dsbow\n"
     ]
    },
    {
     "name": "stderr",
     "output_type": "stream",
     "text": [
      "WARNING:absl:Found untraced functions such as down_conv_29_layer_call_and_return_conditional_losses, down_conv_29_layer_call_fn, conv2d_113_layer_call_and_return_conditional_losses, conv2d_113_layer_call_fn, down_conv_25_layer_call_and_return_conditional_losses while saving (showing 5 of 185). These functions will not be directly callable after loading.\n"
     ]
    },
    {
     "name": "stdout",
     "output_type": "stream",
     "text": [
      "INFO:tensorflow:Assets written to: C:/Users/sinjy/jupyter_notebook/model\\model-dsbow\\assets\n"
     ]
    },
    {
     "name": "stderr",
     "output_type": "stream",
     "text": [
      "INFO:tensorflow:Assets written to: C:/Users/sinjy/jupyter_notebook/model\\model-dsbow\\assets\n"
     ]
    },
    {
     "name": "stdout",
     "output_type": "stream",
     "text": [
      "Epoch 2/50\n",
      "38/38 [==============================] - 71s 2s/step - loss: 0.2781 - mean_iou: 0.7088 - val_loss: 0.1951 - val_mean_iou: 0.7872\n",
      "\n",
      "Epoch 00002: val_loss improved from 0.29648 to 0.19506, saving model to C:/Users/sinjy/jupyter_notebook/model\\model-dsbow\n"
     ]
    },
    {
     "name": "stderr",
     "output_type": "stream",
     "text": [
      "WARNING:absl:Found untraced functions such as down_conv_29_layer_call_and_return_conditional_losses, down_conv_29_layer_call_fn, conv2d_113_layer_call_and_return_conditional_losses, conv2d_113_layer_call_fn, down_conv_25_layer_call_and_return_conditional_losses while saving (showing 5 of 185). These functions will not be directly callable after loading.\n"
     ]
    },
    {
     "name": "stdout",
     "output_type": "stream",
     "text": [
      "INFO:tensorflow:Assets written to: C:/Users/sinjy/jupyter_notebook/model\\model-dsbow\\assets\n"
     ]
    },
    {
     "name": "stderr",
     "output_type": "stream",
     "text": [
      "INFO:tensorflow:Assets written to: C:/Users/sinjy/jupyter_notebook/model\\model-dsbow\\assets\n"
     ]
    },
    {
     "name": "stdout",
     "output_type": "stream",
     "text": [
      "Epoch 3/50\n",
      "38/38 [==============================] - 74s 2s/step - loss: 0.2031 - mean_iou: 0.7831 - val_loss: 0.1788 - val_mean_iou: 0.7950\n",
      "\n",
      "Epoch 00003: val_loss improved from 0.19506 to 0.17877, saving model to C:/Users/sinjy/jupyter_notebook/model\\model-dsbow\n"
     ]
    },
    {
     "name": "stderr",
     "output_type": "stream",
     "text": [
      "WARNING:absl:Found untraced functions such as down_conv_29_layer_call_and_return_conditional_losses, down_conv_29_layer_call_fn, conv2d_113_layer_call_and_return_conditional_losses, conv2d_113_layer_call_fn, down_conv_25_layer_call_and_return_conditional_losses while saving (showing 5 of 185). These functions will not be directly callable after loading.\n"
     ]
    },
    {
     "name": "stdout",
     "output_type": "stream",
     "text": [
      "INFO:tensorflow:Assets written to: C:/Users/sinjy/jupyter_notebook/model\\model-dsbow\\assets\n"
     ]
    },
    {
     "name": "stderr",
     "output_type": "stream",
     "text": [
      "INFO:tensorflow:Assets written to: C:/Users/sinjy/jupyter_notebook/model\\model-dsbow\\assets\n"
     ]
    },
    {
     "name": "stdout",
     "output_type": "stream",
     "text": [
      "Epoch 4/50\n",
      "38/38 [==============================] - 70s 2s/step - loss: 0.1735 - mean_iou: 0.8138 - val_loss: 0.1451 - val_mean_iou: 0.8344\n",
      "\n",
      "Epoch 00004: val_loss improved from 0.17877 to 0.14513, saving model to C:/Users/sinjy/jupyter_notebook/model\\model-dsbow\n"
     ]
    },
    {
     "name": "stderr",
     "output_type": "stream",
     "text": [
      "WARNING:absl:Found untraced functions such as down_conv_29_layer_call_and_return_conditional_losses, down_conv_29_layer_call_fn, conv2d_113_layer_call_and_return_conditional_losses, conv2d_113_layer_call_fn, down_conv_25_layer_call_and_return_conditional_losses while saving (showing 5 of 185). These functions will not be directly callable after loading.\n"
     ]
    },
    {
     "name": "stdout",
     "output_type": "stream",
     "text": [
      "INFO:tensorflow:Assets written to: C:/Users/sinjy/jupyter_notebook/model\\model-dsbow\\assets\n"
     ]
    },
    {
     "name": "stderr",
     "output_type": "stream",
     "text": [
      "INFO:tensorflow:Assets written to: C:/Users/sinjy/jupyter_notebook/model\\model-dsbow\\assets\n"
     ]
    },
    {
     "name": "stdout",
     "output_type": "stream",
     "text": [
      "Epoch 5/50\n",
      "38/38 [==============================] - 69s 2s/step - loss: 0.1584 - mean_iou: 0.8314 - val_loss: 0.1284 - val_mean_iou: 0.8614\n",
      "\n",
      "Epoch 00005: val_loss improved from 0.14513 to 0.12841, saving model to C:/Users/sinjy/jupyter_notebook/model\\model-dsbow\n"
     ]
    },
    {
     "name": "stderr",
     "output_type": "stream",
     "text": [
      "WARNING:absl:Found untraced functions such as down_conv_29_layer_call_and_return_conditional_losses, down_conv_29_layer_call_fn, conv2d_113_layer_call_and_return_conditional_losses, conv2d_113_layer_call_fn, down_conv_25_layer_call_and_return_conditional_losses while saving (showing 5 of 185). These functions will not be directly callable after loading.\n"
     ]
    },
    {
     "name": "stdout",
     "output_type": "stream",
     "text": [
      "INFO:tensorflow:Assets written to: C:/Users/sinjy/jupyter_notebook/model\\model-dsbow\\assets\n"
     ]
    },
    {
     "name": "stderr",
     "output_type": "stream",
     "text": [
      "INFO:tensorflow:Assets written to: C:/Users/sinjy/jupyter_notebook/model\\model-dsbow\\assets\n"
     ]
    },
    {
     "name": "stdout",
     "output_type": "stream",
     "text": [
      "Epoch 6/50\n",
      "38/38 [==============================] - 70s 2s/step - loss: 0.1441 - mean_iou: 0.8483 - val_loss: 0.1279 - val_mean_iou: 0.8673\n",
      "\n",
      "Epoch 00006: val_loss improved from 0.12841 to 0.12786, saving model to C:/Users/sinjy/jupyter_notebook/model\\model-dsbow\n"
     ]
    },
    {
     "name": "stderr",
     "output_type": "stream",
     "text": [
      "WARNING:absl:Found untraced functions such as down_conv_29_layer_call_and_return_conditional_losses, down_conv_29_layer_call_fn, conv2d_113_layer_call_and_return_conditional_losses, conv2d_113_layer_call_fn, down_conv_25_layer_call_and_return_conditional_losses while saving (showing 5 of 185). These functions will not be directly callable after loading.\n"
     ]
    },
    {
     "name": "stdout",
     "output_type": "stream",
     "text": [
      "INFO:tensorflow:Assets written to: C:/Users/sinjy/jupyter_notebook/model\\model-dsbow\\assets\n"
     ]
    },
    {
     "name": "stderr",
     "output_type": "stream",
     "text": [
      "INFO:tensorflow:Assets written to: C:/Users/sinjy/jupyter_notebook/model\\model-dsbow\\assets\n"
     ]
    },
    {
     "name": "stdout",
     "output_type": "stream",
     "text": [
      "Epoch 7/50\n",
      "38/38 [==============================] - 70s 2s/step - loss: 0.1373 - mean_iou: 0.8566 - val_loss: 0.1439 - val_mean_iou: 0.8531\n",
      "\n",
      "Epoch 00007: val_loss did not improve from 0.12786\n",
      "Epoch 8/50\n",
      "38/38 [==============================] - 71s 2s/step - loss: 0.1307 - mean_iou: 0.8638 - val_loss: 0.1346 - val_mean_iou: 0.8731\n",
      "\n",
      "Epoch 00008: val_loss did not improve from 0.12786\n",
      "Epoch 9/50\n",
      "38/38 [==============================] - 69s 2s/step - loss: 0.1277 - mean_iou: 0.8649 - val_loss: 0.1180 - val_mean_iou: 0.8705\n",
      "\n",
      "Epoch 00009: val_loss improved from 0.12786 to 0.11798, saving model to C:/Users/sinjy/jupyter_notebook/model\\model-dsbow\n"
     ]
    },
    {
     "name": "stderr",
     "output_type": "stream",
     "text": [
      "WARNING:absl:Found untraced functions such as down_conv_29_layer_call_and_return_conditional_losses, down_conv_29_layer_call_fn, conv2d_113_layer_call_and_return_conditional_losses, conv2d_113_layer_call_fn, down_conv_25_layer_call_and_return_conditional_losses while saving (showing 5 of 185). These functions will not be directly callable after loading.\n"
     ]
    },
    {
     "name": "stdout",
     "output_type": "stream",
     "text": [
      "INFO:tensorflow:Assets written to: C:/Users/sinjy/jupyter_notebook/model\\model-dsbow\\assets\n"
     ]
    },
    {
     "name": "stderr",
     "output_type": "stream",
     "text": [
      "INFO:tensorflow:Assets written to: C:/Users/sinjy/jupyter_notebook/model\\model-dsbow\\assets\n"
     ]
    },
    {
     "name": "stdout",
     "output_type": "stream",
     "text": [
      "Epoch 10/50\n",
      "38/38 [==============================] - 73s 2s/step - loss: 0.1163 - mean_iou: 0.8766 - val_loss: 0.1138 - val_mean_iou: 0.8810\n",
      "\n",
      "Epoch 00010: val_loss improved from 0.11798 to 0.11383, saving model to C:/Users/sinjy/jupyter_notebook/model\\model-dsbow\n"
     ]
    },
    {
     "name": "stderr",
     "output_type": "stream",
     "text": [
      "WARNING:absl:Found untraced functions such as down_conv_29_layer_call_and_return_conditional_losses, down_conv_29_layer_call_fn, conv2d_113_layer_call_and_return_conditional_losses, conv2d_113_layer_call_fn, down_conv_25_layer_call_and_return_conditional_losses while saving (showing 5 of 185). These functions will not be directly callable after loading.\n"
     ]
    },
    {
     "name": "stdout",
     "output_type": "stream",
     "text": [
      "INFO:tensorflow:Assets written to: C:/Users/sinjy/jupyter_notebook/model\\model-dsbow\\assets\n"
     ]
    },
    {
     "name": "stderr",
     "output_type": "stream",
     "text": [
      "INFO:tensorflow:Assets written to: C:/Users/sinjy/jupyter_notebook/model\\model-dsbow\\assets\n"
     ]
    },
    {
     "name": "stdout",
     "output_type": "stream",
     "text": [
      "Epoch 11/50\n",
      "38/38 [==============================] - 73s 2s/step - loss: 0.1112 - mean_iou: 0.8813 - val_loss: 0.1014 - val_mean_iou: 0.8912\n",
      "\n",
      "Epoch 00011: val_loss improved from 0.11383 to 0.10135, saving model to C:/Users/sinjy/jupyter_notebook/model\\model-dsbow\n"
     ]
    },
    {
     "name": "stderr",
     "output_type": "stream",
     "text": [
      "WARNING:absl:Found untraced functions such as down_conv_29_layer_call_and_return_conditional_losses, down_conv_29_layer_call_fn, conv2d_113_layer_call_and_return_conditional_losses, conv2d_113_layer_call_fn, down_conv_25_layer_call_and_return_conditional_losses while saving (showing 5 of 185). These functions will not be directly callable after loading.\n"
     ]
    },
    {
     "name": "stdout",
     "output_type": "stream",
     "text": [
      "INFO:tensorflow:Assets written to: C:/Users/sinjy/jupyter_notebook/model\\model-dsbow\\assets\n"
     ]
    },
    {
     "name": "stderr",
     "output_type": "stream",
     "text": [
      "INFO:tensorflow:Assets written to: C:/Users/sinjy/jupyter_notebook/model\\model-dsbow\\assets\n"
     ]
    },
    {
     "name": "stdout",
     "output_type": "stream",
     "text": [
      "Epoch 12/50\n",
      "38/38 [==============================] - 72s 2s/step - loss: 0.1099 - mean_iou: 0.8818 - val_loss: 0.0999 - val_mean_iou: 0.8970\n",
      "\n",
      "Epoch 00012: val_loss improved from 0.10135 to 0.09986, saving model to C:/Users/sinjy/jupyter_notebook/model\\model-dsbow\n"
     ]
    },
    {
     "name": "stderr",
     "output_type": "stream",
     "text": [
      "WARNING:absl:Found untraced functions such as down_conv_29_layer_call_and_return_conditional_losses, down_conv_29_layer_call_fn, conv2d_113_layer_call_and_return_conditional_losses, conv2d_113_layer_call_fn, down_conv_25_layer_call_and_return_conditional_losses while saving (showing 5 of 185). These functions will not be directly callable after loading.\n"
     ]
    },
    {
     "name": "stdout",
     "output_type": "stream",
     "text": [
      "INFO:tensorflow:Assets written to: C:/Users/sinjy/jupyter_notebook/model\\model-dsbow\\assets\n"
     ]
    },
    {
     "name": "stderr",
     "output_type": "stream",
     "text": [
      "INFO:tensorflow:Assets written to: C:/Users/sinjy/jupyter_notebook/model\\model-dsbow\\assets\n"
     ]
    },
    {
     "name": "stdout",
     "output_type": "stream",
     "text": [
      "Epoch 13/50\n",
      "38/38 [==============================] - 1044s 28s/step - loss: 0.1067 - mean_iou: 0.8863 - val_loss: 0.0938 - val_mean_iou: 0.8994\n",
      "\n",
      "Epoch 00013: val_loss improved from 0.09986 to 0.09380, saving model to C:/Users/sinjy/jupyter_notebook/model\\model-dsbow\n"
     ]
    },
    {
     "name": "stderr",
     "output_type": "stream",
     "text": [
      "WARNING:absl:Found untraced functions such as down_conv_29_layer_call_and_return_conditional_losses, down_conv_29_layer_call_fn, conv2d_113_layer_call_and_return_conditional_losses, conv2d_113_layer_call_fn, down_conv_25_layer_call_and_return_conditional_losses while saving (showing 5 of 185). These functions will not be directly callable after loading.\n"
     ]
    },
    {
     "name": "stdout",
     "output_type": "stream",
     "text": [
      "INFO:tensorflow:Assets written to: C:/Users/sinjy/jupyter_notebook/model\\model-dsbow\\assets\n"
     ]
    },
    {
     "name": "stderr",
     "output_type": "stream",
     "text": [
      "INFO:tensorflow:Assets written to: C:/Users/sinjy/jupyter_notebook/model\\model-dsbow\\assets\n"
     ]
    },
    {
     "name": "stdout",
     "output_type": "stream",
     "text": [
      "Epoch 14/50\n",
      "38/38 [==============================] - 70s 2s/step - loss: 0.1097 - mean_iou: 0.8835 - val_loss: 0.0970 - val_mean_iou: 0.8945\n",
      "\n",
      "Epoch 00014: val_loss did not improve from 0.09380\n",
      "Epoch 15/50\n",
      "38/38 [==============================] - 71s 2s/step - loss: 0.1068 - mean_iou: 0.8851 - val_loss: 0.0925 - val_mean_iou: 0.9033\n",
      "\n",
      "Epoch 00015: val_loss improved from 0.09380 to 0.09250, saving model to C:/Users/sinjy/jupyter_notebook/model\\model-dsbow\n"
     ]
    },
    {
     "name": "stderr",
     "output_type": "stream",
     "text": [
      "WARNING:absl:Found untraced functions such as down_conv_29_layer_call_and_return_conditional_losses, down_conv_29_layer_call_fn, conv2d_113_layer_call_and_return_conditional_losses, conv2d_113_layer_call_fn, down_conv_25_layer_call_and_return_conditional_losses while saving (showing 5 of 185). These functions will not be directly callable after loading.\n"
     ]
    },
    {
     "name": "stdout",
     "output_type": "stream",
     "text": [
      "INFO:tensorflow:Assets written to: C:/Users/sinjy/jupyter_notebook/model\\model-dsbow\\assets\n"
     ]
    },
    {
     "name": "stderr",
     "output_type": "stream",
     "text": [
      "INFO:tensorflow:Assets written to: C:/Users/sinjy/jupyter_notebook/model\\model-dsbow\\assets\n"
     ]
    },
    {
     "name": "stdout",
     "output_type": "stream",
     "text": [
      "Epoch 16/50\n",
      "38/38 [==============================] - 69s 2s/step - loss: 0.1022 - mean_iou: 0.8911 - val_loss: 0.0949 - val_mean_iou: 0.8968\n",
      "\n",
      "Epoch 00016: val_loss did not improve from 0.09250\n",
      "Epoch 17/50\n",
      "38/38 [==============================] - 69s 2s/step - loss: 0.0998 - mean_iou: 0.8923 - val_loss: 0.0850 - val_mean_iou: 0.9106\n",
      "\n",
      "Epoch 00017: val_loss improved from 0.09250 to 0.08502, saving model to C:/Users/sinjy/jupyter_notebook/model\\model-dsbow\n"
     ]
    },
    {
     "name": "stderr",
     "output_type": "stream",
     "text": [
      "WARNING:absl:Found untraced functions such as down_conv_29_layer_call_and_return_conditional_losses, down_conv_29_layer_call_fn, conv2d_113_layer_call_and_return_conditional_losses, conv2d_113_layer_call_fn, down_conv_25_layer_call_and_return_conditional_losses while saving (showing 5 of 185). These functions will not be directly callable after loading.\n"
     ]
    },
    {
     "name": "stdout",
     "output_type": "stream",
     "text": [
      "INFO:tensorflow:Assets written to: C:/Users/sinjy/jupyter_notebook/model\\model-dsbow\\assets\n"
     ]
    },
    {
     "name": "stderr",
     "output_type": "stream",
     "text": [
      "INFO:tensorflow:Assets written to: C:/Users/sinjy/jupyter_notebook/model\\model-dsbow\\assets\n"
     ]
    },
    {
     "name": "stdout",
     "output_type": "stream",
     "text": [
      "Epoch 18/50\n",
      "38/38 [==============================] - 69s 2s/step - loss: 0.1017 - mean_iou: 0.8919 - val_loss: 0.0945 - val_mean_iou: 0.8941\n",
      "\n",
      "Epoch 00018: val_loss did not improve from 0.08502\n",
      "Epoch 19/50\n",
      "38/38 [==============================] - 70s 2s/step - loss: 0.0985 - mean_iou: 0.8944 - val_loss: 0.0908 - val_mean_iou: 0.9040\n",
      "\n",
      "Epoch 00019: val_loss did not improve from 0.08502\n",
      "Epoch 20/50\n",
      "38/38 [==============================] - 70s 2s/step - loss: 0.0994 - mean_iou: 0.8927 - val_loss: 0.0874 - val_mean_iou: 0.9045\n",
      "\n",
      "Epoch 00020: val_loss did not improve from 0.08502\n",
      "Epoch 21/50\n",
      "38/38 [==============================] - 69s 2s/step - loss: 0.0956 - mean_iou: 0.8967 - val_loss: 0.0846 - val_mean_iou: 0.9056\n",
      "\n",
      "Epoch 00021: val_loss improved from 0.08502 to 0.08457, saving model to C:/Users/sinjy/jupyter_notebook/model\\model-dsbow\n"
     ]
    },
    {
     "name": "stderr",
     "output_type": "stream",
     "text": [
      "WARNING:absl:Found untraced functions such as down_conv_29_layer_call_and_return_conditional_losses, down_conv_29_layer_call_fn, conv2d_113_layer_call_and_return_conditional_losses, conv2d_113_layer_call_fn, down_conv_25_layer_call_and_return_conditional_losses while saving (showing 5 of 185). These functions will not be directly callable after loading.\n"
     ]
    },
    {
     "name": "stdout",
     "output_type": "stream",
     "text": [
      "INFO:tensorflow:Assets written to: C:/Users/sinjy/jupyter_notebook/model\\model-dsbow\\assets\n"
     ]
    },
    {
     "name": "stderr",
     "output_type": "stream",
     "text": [
      "INFO:tensorflow:Assets written to: C:/Users/sinjy/jupyter_notebook/model\\model-dsbow\\assets\n"
     ]
    },
    {
     "name": "stdout",
     "output_type": "stream",
     "text": [
      "Epoch 22/50\n",
      "38/38 [==============================] - 70s 2s/step - loss: 0.0934 - mean_iou: 0.8981 - val_loss: 0.0841 - val_mean_iou: 0.9091\n",
      "\n",
      "Epoch 00022: val_loss improved from 0.08457 to 0.08407, saving model to C:/Users/sinjy/jupyter_notebook/model\\model-dsbow\n"
     ]
    },
    {
     "name": "stderr",
     "output_type": "stream",
     "text": [
      "WARNING:absl:Found untraced functions such as down_conv_29_layer_call_and_return_conditional_losses, down_conv_29_layer_call_fn, conv2d_113_layer_call_and_return_conditional_losses, conv2d_113_layer_call_fn, down_conv_25_layer_call_and_return_conditional_losses while saving (showing 5 of 185). These functions will not be directly callable after loading.\n"
     ]
    },
    {
     "name": "stdout",
     "output_type": "stream",
     "text": [
      "INFO:tensorflow:Assets written to: C:/Users/sinjy/jupyter_notebook/model\\model-dsbow\\assets\n"
     ]
    },
    {
     "name": "stderr",
     "output_type": "stream",
     "text": [
      "INFO:tensorflow:Assets written to: C:/Users/sinjy/jupyter_notebook/model\\model-dsbow\\assets\n"
     ]
    },
    {
     "name": "stdout",
     "output_type": "stream",
     "text": [
      "Epoch 23/50\n",
      "38/38 [==============================] - 223s 6s/step - loss: 0.0935 - mean_iou: 0.8986 - val_loss: 0.0807 - val_mean_iou: 0.9132\n",
      "\n",
      "Epoch 00023: val_loss improved from 0.08407 to 0.08073, saving model to C:/Users/sinjy/jupyter_notebook/model\\model-dsbow\n"
     ]
    },
    {
     "name": "stderr",
     "output_type": "stream",
     "text": [
      "WARNING:absl:Found untraced functions such as down_conv_29_layer_call_and_return_conditional_losses, down_conv_29_layer_call_fn, conv2d_113_layer_call_and_return_conditional_losses, conv2d_113_layer_call_fn, down_conv_25_layer_call_and_return_conditional_losses while saving (showing 5 of 185). These functions will not be directly callable after loading.\n"
     ]
    },
    {
     "name": "stdout",
     "output_type": "stream",
     "text": [
      "INFO:tensorflow:Assets written to: C:/Users/sinjy/jupyter_notebook/model\\model-dsbow\\assets\n"
     ]
    },
    {
     "name": "stderr",
     "output_type": "stream",
     "text": [
      "INFO:tensorflow:Assets written to: C:/Users/sinjy/jupyter_notebook/model\\model-dsbow\\assets\n"
     ]
    },
    {
     "name": "stdout",
     "output_type": "stream",
     "text": [
      "Epoch 24/50\n",
      "38/38 [==============================] - 69s 2s/step - loss: 0.0922 - mean_iou: 0.9005 - val_loss: 0.0911 - val_mean_iou: 0.8989\n",
      "\n",
      "Epoch 00024: val_loss did not improve from 0.08073\n",
      "Epoch 25/50\n",
      "38/38 [==============================] - 70s 2s/step - loss: 0.0931 - mean_iou: 0.8981 - val_loss: 0.0848 - val_mean_iou: 0.9119\n",
      "\n",
      "Epoch 00025: val_loss did not improve from 0.08073\n",
      "Epoch 26/50\n",
      "38/38 [==============================] - 71s 2s/step - loss: 0.0902 - mean_iou: 0.9023 - val_loss: 0.0850 - val_mean_iou: 0.9045\n",
      "\n",
      "Epoch 00026: val_loss did not improve from 0.08073\n",
      "Epoch 27/50\n",
      "38/38 [==============================] - 70s 2s/step - loss: 0.0901 - mean_iou: 0.9018 - val_loss: 0.0827 - val_mean_iou: 0.9088\n",
      "\n",
      "Epoch 00027: val_loss did not improve from 0.08073\n",
      "Epoch 28/50\n",
      "38/38 [==============================] - 70s 2s/step - loss: 0.0891 - mean_iou: 0.9030 - val_loss: 0.0898 - val_mean_iou: 0.9022\n",
      "\n",
      "Epoch 00028: val_loss did not improve from 0.08073\n",
      "Epoch 00028: early stopping\n"
     ]
    }
   ],
   "source": [
    "earlystopper = EarlyStopping(patience=5, verbose=1)\n",
    "checkpointer = ModelCheckpoint(\n",
    "    'C:/Users/sinjy/jupyter_notebook/model/model-dsbow', verbose=1, \n",
    "    save_best_only=True)\n",
    "results = model.fit(X_train, Y_train, validation_split=0.1, batch_size=16, \n",
    "                   epochs=50, callbacks=[earlystopper, checkpointer])"
   ]
  },
  {
   "cell_type": "code",
   "execution_count": 32,
   "id": "bb81a95e",
   "metadata": {},
   "outputs": [
    {
     "data": {
      "image/png": "[encoded data removed]",
      "text/plain": [
       "<Figure size 432x288 with 2 Axes>"
      ]
     },
     "metadata": {
      "needs_background": "light"
     },
     "output_type": "display_data"
    }
   ],
   "source": [
    "import matplotlib.pyplot as plt\n",
    "\n",
    "x = range(len(results.history['loss']))\n",
    "plt.subplot(121)\n",
    "plt.plot(x, results.history['loss'], label='loss')\n",
    "plt.plot(x, results.history['val_loss'], label='val_loss')\n",
    "plt.legend()\n",
    "\n",
    "plt.subplot(122)\n",
    "plt.plot(x, results.history['mean_iou'], label='mean_iou')\n",
    "plt.plot(x, results.history['val_mean_iou'], label='val_mean_iou')\n",
    "plt.legend()\n",
    "\n",
    "plt.show()"
   ]
  },
  {
   "cell_type": "markdown",
   "id": "6905a7e1",
   "metadata": {},
   "source": [
    "## Make predictions"
   ]
  },
  {
   "cell_type": "code",
   "execution_count": 35,
   "id": "f2e539f0",
   "metadata": {},
   "outputs": [
    {
     "name": "stdout",
     "output_type": "stream",
     "text": [
      "19/19 [==============================] - 17s 888ms/step\n",
      "3/3 [==============================] - 2s 612ms/step\n",
      "3/3 [==============================] - 2s 596ms/step\n"
     ]
    }
   ],
   "source": [
    "model = load_model('C:/Users/sinjy/jupyter_notebook/model/model-dsbow', custom_objects={'mean_iou': mean_iou})\n",
    "preds_train = model.predict(X_train[:int(X_train.shape[0]*0.9)], verbose=1)\n",
    "preds_val = model.predict(X_train[int(X_train.shape[0]*0.9):], verbose=1)\n",
    "preds_test = model.predict(X_test, verbose=1)\n",
    "\n",
    "preds_train_t = (preds_train > 0.5).astype(np.uint8)\n",
    "preds_val_t = (preds_val > 0.5).astype(np.uint8)\n",
    "preds_test_t = (preds_test > 0.5).astype(np.uint8)\n",
    "\n",
    "preds_test_upsampled = []\n",
    "for i in range(len(preds_test)):\n",
    "    preds_test_upsampled.append(\n",
    "        resize(np.squeeze(preds_test[i]), (sizes_test[i][0], sizes_test[i][1]), \n",
    "               mode='constant', preserve_range=True))"
   ]
  },
  {
   "cell_type": "code",
   "execution_count": 39,
   "id": "11d16490",
   "metadata": {},
   "outputs": [
    {
     "data": {
      "text/plain": [
       "(65, 128, 128, 1)"
      ]
     },
     "execution_count": 39,
     "metadata": {},
     "output_type": "execute_result"
    }
   ],
   "source": [
    "preds_test.shape"
   ]
  },
  {
   "cell_type": "markdown",
   "id": "beff3f56",
   "metadata": {},
   "source": [
    "### check train data"
   ]
  },
  {
   "cell_type": "code",
   "execution_count": 36,
   "id": "0f77bec4",
   "metadata": {},
   "outputs": [
    {
     "data": {
      "image/png": "[encoded data removed]",
      "text/plain": [
       "<Figure size 432x288 with 1 Axes>"
      ]
     },
     "metadata": {
      "needs_background": "light"
     },
     "output_type": "display_data"
    },
    {
     "data": {
      "image/png": "[encoded data removed]",
      "text/plain": [
       "<Figure size 432x288 with 1 Axes>"
      ]
     },
     "metadata": {
      "needs_background": "light"
     },
     "output_type": "display_data"
    },
    {
     "data": {
      "image/png": "[encoded data removed]",
      "text/plain": [
       "<Figure size 432x288 with 2 Axes>"
      ]
     },
     "metadata": {
      "needs_background": "light"
     },
     "output_type": "display_data"
    }
   ],
   "source": [
    "ix = random.randint(0, len(preds_train_t))\n",
    "imshow(X_train[ix])\n",
    "plt.show()\n",
    "imshow(np.squeeze(Y_train[ix]))\n",
    "plt.show()\n",
    "imshow(np.squeeze(preds_train_t[ix]))\n",
    "plt.show()"
   ]
  },
  {
   "cell_type": "markdown",
   "id": "7d8424a9",
   "metadata": {},
   "source": [
    "### check validation data"
   ]
  },
  {
   "cell_type": "code",
   "execution_count": 37,
   "id": "2a173c6e",
   "metadata": {},
   "outputs": [
    {
     "data": {
      "image/png": "[encoded data removed]",
      "text/plain": [
       "<Figure size 432x288 with 1 Axes>"
      ]
     },
     "metadata": {
      "needs_background": "light"
     },
     "output_type": "display_data"
    },
    {
     "data": {
      "image/png": "[encoded data removed]",
      "text/plain": [
       "<Figure size 432x288 with 1 Axes>"
      ]
     },
     "metadata": {
      "needs_background": "light"
     },
     "output_type": "display_data"
    },
    {
     "data": {
      "image/png": "[encoded data removed]",
      "text/plain": [
       "<Figure size 432x288 with 2 Axes>"
      ]
     },
     "metadata": {
      "needs_background": "light"
     },
     "output_type": "display_data"
    }
   ],
   "source": [
    "ix = random.randint(0, len(preds_val_t))\n",
    "imshow(X_train[int(X_train.shape[0]*0.9):][ix])\n",
    "plt.show()\n",
    "imshow(np.squeeze(Y_train[int(Y_train.shape[0]*0.9):][ix]))\n",
    "plt.show()\n",
    "imshow(np.squeeze(preds_val_t[ix]))\n",
    "plt.show()"
   ]
  },
  {
   "cell_type": "markdown",
   "id": "1946f4b7",
   "metadata": {},
   "source": [
    "## Encode and submit our results"
   ]
  },
  {
   "cell_type": "code",
   "execution_count": 40,
   "id": "232f180e",
   "metadata": {},
   "outputs": [],
   "source": [
    "def rle_encoding(x):\n",
    "    dots = np.where(x.T.flatten() == 1)[0]\n",
    "    run_lengths = []\n",
    "    prev = -2\n",
    "    for b in dots:\n",
    "        if (b>prev+1): run_lengths.extend((b + 1, 0))\n",
    "        run_lengths[-1] += 1\n",
    "        prev = b\n",
    "    return run_lengths\n",
    "\n",
    "def prob_to_rles(x, cutoff=0.5):\n",
    "    lab_img = label(x > cutoff)\n",
    "    for i in range(1, lab_img.max() + 1):\n",
    "        yield rle_encoding(lab_img == i)"
   ]
  },
  {
   "cell_type": "code",
   "execution_count": 42,
   "id": "a0b3963a",
   "metadata": {},
   "outputs": [],
   "source": [
    "new_test_ids = []\n",
    "rles = []\n",
    "for n, id_ in enumerate(test_ids):\n",
    "    rle = list(prob_to_rles(preds_test_upsampled[n]))\n",
    "    rles.extend(rle)\n",
    "    new_test_ids.extend([id_] * len(rle))"
   ]
  },
  {
   "cell_type": "code",
   "execution_count": 58,
   "id": "8ff2c803",
   "metadata": {},
   "outputs": [],
   "source": [
    "sub = pd.DataFrame()\n",
    "sub['ImageId'] = new_test_ids\n",
    "sub['EncodedPixels'] = pd.Series(rles).apply(lambda x: ' '.join(str(y) for y in x))\n",
    "sub.to_csv(ROOT_DIR / 'kaggle_predict' / 'sub-dsbow.csv', index=False)"
   ]
  }
 ],
 "metadata": {
  "kernelspec": {
   "display_name": "machine-learning",
   "language": "python",
   "name": "machine-learning"
  },
  "language_info": {
   "codemirror_mode": {
    "name": "ipython",
    "version": 3
   },
   "file_extension": ".py",
   "mimetype": "text/x-python",
   "name": "python",
   "nbconvert_exporter": "python",
   "pygments_lexer": "ipython3",
   "version": "3.7.11"
  }
 },
 "nbformat": 4,
 "nbformat_minor": 5
}
