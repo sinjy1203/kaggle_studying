{
 "cells": [
  {
   "cell_type": "markdown",
   "id": "cdf82db6",
   "metadata": {},
   "source": [
    "# Keras U-Net starter - LB 0.277"
   ]
  },
  {
   "cell_type": "code",
   "execution_count": 1,
   "id": "b96b43d2",
   "metadata": {},
   "outputs": [
    {
     "name": "stderr",
     "output_type": "stream",
     "text": [
      "C:\\Users\\sinjy\\anaconda3\\envs\\machine-learning\\lib\\site-packages\\skimage\\io\\manage_plugins.py:23: UserWarning: Your installed pillow version is < 8.1.2. Several security issues (CVE-2021-27921, CVE-2021-25290, CVE-2021-25291, CVE-2021-25293, and more) have been fixed in pillow 8.1.2 or higher. We recommend to upgrade this library.\n",
      "  from .collection import imread_collection_wrapper\n"
     ]
    }
   ],
   "source": [
    "import os\n",
    "import sys\n",
    "import random\n",
    "import warnings\n",
    "\n",
    "import numpy as np\n",
    "import pandas as pd\n",
    "\n",
    "import matplotlib.pyplot as plt\n",
    "\n",
    "from tqdm import tqdm\n",
    "from itertools import chain\n",
    "from skimage.io import imread, imshow, imread_collection, concatenate_images\n",
    "from skimage.transform import resize\n",
    "from skimage.morphology import label\n",
    "\n",
    "from tensorflow.keras.models import Model, load_model\n",
    "from tensorflow.keras.layers import Input\n",
    "from tensorflow.keras.layers import Dropout, Lambda\n",
    "from tensorflow.keras.layers import Conv2D, Conv2DTranspose\n",
    "from tensorflow.keras.layers import MaxPooling2D\n",
    "from tensorflow.keras.layers import concatenate\n",
    "from tensorflow.keras.callbacks import EarlyStopping, ModelCheckpoint\n",
    "# from tensorflow.keras import backend as K\n",
    "import tensorflow.compat.v1.keras.backend as K\n",
    "\n",
    "import tensorflow as tf"
   ]
  },
  {
   "cell_type": "code",
   "execution_count": 2,
   "id": "63fbab45",
   "metadata": {},
   "outputs": [],
   "source": [
    "from pathlib import Path\n",
    "\n",
    "IMG_WIDTH = 128\n",
    "IMG_HEIGHT = 128\n",
    "IMG_CHANNELS = 3\n",
    "\n",
    "ROOT_DIR = Path('C:/Users/sinjy/jupyter_notebook/datasets')\n",
    "DATA_DIR = ROOT_DIR / 'kaggle_datasets' / 'nuclei'\n",
    "TRAIN_PATH = DATA_DIR / 'stage1_train'\n",
    "TEST_PATH = DATA_DIR / 'stage1_test'\n",
    "\n",
    "warnings.filterwarnings('ignore', category=UserWarning, module='skimage')\n",
    "seed = 42\n",
    "random.seed = seed\n",
    "np.random.seed = seed"
   ]
  },
  {
   "cell_type": "code",
   "execution_count": 3,
   "id": "0b863797",
   "metadata": {},
   "outputs": [],
   "source": [
    "train_ids = next(os.walk(TRAIN_PATH))[1]\n",
    "test_ids = next(os.walk(TEST_PATH))[1]"
   ]
  },
  {
   "cell_type": "markdown",
   "id": "c83866ed",
   "metadata": {},
   "source": [
    "## Get the data"
   ]
  },
  {
   "cell_type": "markdown",
   "id": "f7c87ca8",
   "metadata": {},
   "source": [
    "### resize image"
   ]
  },
  {
   "cell_type": "code",
   "execution_count": 4,
   "id": "c1d4b4c7",
   "metadata": {},
   "outputs": [
    {
     "name": "stdout",
     "output_type": "stream",
     "text": [
      "Getting and resizing train images and masks ...\n"
     ]
    },
    {
     "name": "stderr",
     "output_type": "stream",
     "text": [
      "C:\\Users\\sinjy\\anaconda3\\envs\\machine-learning\\lib\\site-packages\\ipykernel_launcher.py:2: DeprecationWarning: `np.bool` is a deprecated alias for the builtin `bool`. To silence this warning, use `bool` by itself. Doing this will not modify any behavior and is safe. If you specifically wanted the numpy scalar type, use `np.bool_` here.\n",
      "Deprecated in NumPy 1.20; for more details and guidance: https://numpy.org/devdocs/release/1.20.0-notes.html#deprecations\n",
      "  \n",
      "  0%|                                                                                          | 0/670 [00:00<?, ?it/s]C:\\Users\\sinjy\\anaconda3\\envs\\machine-learning\\lib\\site-packages\\ipykernel_launcher.py:10: DeprecationWarning: `np.bool` is a deprecated alias for the builtin `bool`. To silence this warning, use `bool` by itself. Doing this will not modify any behavior and is safe. If you specifically wanted the numpy scalar type, use `np.bool_` here.\n",
      "Deprecated in NumPy 1.20; for more details and guidance: https://numpy.org/devdocs/release/1.20.0-notes.html#deprecations\n",
      "  # Remove the CWD from sys.path while we load stuff.\n",
      "100%|████████████████████████████████████████████████████████████████████████████████| 670/670 [05:52<00:00,  1.90it/s]\n"
     ]
    }
   ],
   "source": [
    "X_train = np.zeros((len(train_ids), IMG_HEIGHT, IMG_WIDTH, IMG_CHANNELS), dtype=np.uint8)\n",
    "Y_train = np.zeros((len(train_ids), IMG_HEIGHT, IMG_WIDTH, 1), dtype=np.bool)\n",
    "print('Getting and resizing train images and masks ...')\n",
    "sys.stdout.flush()\n",
    "for n, id_ in tqdm(enumerate(train_ids), total=len(train_ids)):\n",
    "    path = TRAIN_PATH / id_\n",
    "    img = imread(path / 'images' / (id_ + '.png'))[:, :, :IMG_CHANNELS]\n",
    "    img = resize(img, (IMG_HEIGHT, IMG_WIDTH), mode='constant', preserve_range=True)\n",
    "    X_train[n] = img\n",
    "    mask = np.zeros((IMG_HEIGHT, IMG_WIDTH, 1), dtype=np.bool)\n",
    "    for mask_file in next(os.walk(path / 'masks'))[2]:\n",
    "        mask_ = imread(path / 'masks' / mask_file)\n",
    "        mask_ = np.expand_dims(resize(mask_, (IMG_HEIGHT, IMG_WIDTH), mode='constant', preserve_range=True),\n",
    "                               axis=-1)\n",
    "        mask = np.maximum(mask, mask_)\n",
    "    Y_train[n] = mask"
   ]
  },
  {
   "cell_type": "code",
   "execution_count": 5,
   "id": "66aae7b8",
   "metadata": {},
   "outputs": [
    {
     "name": "stdout",
     "output_type": "stream",
     "text": [
      "Getting and resizing test images ...\n"
     ]
    },
    {
     "name": "stderr",
     "output_type": "stream",
     "text": [
      "100%|██████████████████████████████████████████████████████████████████████████████████| 65/65 [00:01<00:00, 36.10it/s]"
     ]
    },
    {
     "name": "stdout",
     "output_type": "stream",
     "text": [
      "Done!\n"
     ]
    },
    {
     "name": "stderr",
     "output_type": "stream",
     "text": [
      "\n"
     ]
    }
   ],
   "source": [
    "X_test = np.zeros((len(test_ids), IMG_HEIGHT, IMG_WIDTH, IMG_CHANNELS), dtype=np.uint8)\n",
    "sizes_test = []\n",
    "print('Getting and resizing test images ...')\n",
    "sys.stdout.flush()\n",
    "for n, id_ in tqdm(enumerate(test_ids), total=len(test_ids)):\n",
    "    path = TEST_PATH / id_\n",
    "    img = imread(path / 'images' / (id_ + '.png'))[:, :, :IMG_CHANNELS]\n",
    "    sizes_test.append([img.shape[0], img.shape[1]])\n",
    "    img = resize(img, (IMG_HEIGHT, IMG_WIDTH), mode='constant', preserve_range=True)\n",
    "    X_test[n] = img\n",
    "\n",
    "print('Done!')"
   ]
  },
  {
   "cell_type": "markdown",
   "id": "973e65e9",
   "metadata": {},
   "source": [
    "### check mask"
   ]
  },
  {
   "cell_type": "code",
   "execution_count": 6,
   "id": "1ed7b8c5",
   "metadata": {},
   "outputs": [
    {
     "data": {
      "image/png": "[encoded data removed]",
      "text/plain": [
       "<Figure size 432x288 with 1 Axes>"
      ]
     },
     "metadata": {
      "needs_background": "light"
     },
     "output_type": "display_data"
    },
    {
     "data": {
      "image/png": "[encoded data removed]",
      "text/plain": [
       "<Figure size 432x288 with 1 Axes>"
      ]
     },
     "metadata": {
      "needs_background": "light"
     },
     "output_type": "display_data"
    }
   ],
   "source": [
    "ix = random.randint(0, len(train_ids))\n",
    "imshow(X_train[ix])\n",
    "plt.show()\n",
    "imshow(np.squeeze(Y_train[ix]))\n",
    "plt.show()"
   ]
  },
  {
   "cell_type": "markdown",
   "id": "061fbdcc",
   "metadata": {},
   "source": [
    "## Create our Keras metric"
   ]
  },
  {
   "cell_type": "code",
   "execution_count": 59,
   "id": "004ec961",
   "metadata": {},
   "outputs": [],
   "source": [
    "# tf.config.run_functions_eagerly(True)\n",
    "def mean_iou(y_true, y_pred):\n",
    "    meaniou = tf.keras.metrics.MeanIoU(2)\n",
    "    prec = []\n",
    "    for t in np.arange(0.5, 1.0, 0.05):\n",
    "        y_pred_ = tf.cast(y_pred > t, tf.int32)\n",
    "        score = meaniou(y_true, y_pred_)\n",
    "        prec.append(score)\n",
    "    return K.mean(K.stack(prec), axis=0)\n",
    "\n",
    "# class MeanIou(tf.keras.metrics.Metric):\n",
    "#     def __init__(self):\n",
    "#         super(MeanIou, self).__init__()\n",
    "#         self.mean_iou = tf.keras.metrics.MeanIoU(2)\n",
    "    \n",
    "#     def update_state(self, y_true, y_pred, sample_weight=None):\n",
    "#         prec = []\n",
    "#         for t in np.arange(0.5, 1.0, 0.05):\n",
    "#             y_pred_ = tf.cast(y_pred > t, tf.int32)\n",
    "#             score = self.mean_iou(y_true, y_pred_)\n",
    "#             prec.append(score)\n",
    "#         self.ans =  K.mean(K.stack(prec), axis=0)\n",
    "    \n",
    "#     def result(self):\n",
    "#         return self.ans"
   ]
  },
  {
   "cell_type": "markdown",
   "id": "2ccc329d",
   "metadata": {},
   "source": [
    "## Build and train our neural network"
   ]
  },
  {
   "cell_type": "markdown",
   "id": "489d8165",
   "metadata": {},
   "source": [
    "### Build U-Net model"
   ]
  },
  {
   "cell_type": "code",
   "execution_count": 60,
   "id": "c5d4ab77",
   "metadata": {},
   "outputs": [],
   "source": [
    "class DownConv(tf.keras.layers.Layer):\n",
    "    def __init__(self, filters, pool):\n",
    "        super(DownConv, self).__init__()\n",
    "        self.pool = pool\n",
    "        self.c1 = Conv2D(\n",
    "            filters, (3, 3), activation='elu', kernel_initializer='he_normal', \n",
    "            padding='same')\n",
    "        self.dropout = Dropout(0.2)\n",
    "        self.c2 = Conv2D(\n",
    "            filters, (3, 3), activation='elu', kernel_initializer='he_normal', \n",
    "            padding='same')\n",
    "        if pool:\n",
    "            self.pool = MaxPooling2D((2, 2))\n",
    "    def call(self, x):\n",
    "        x = self.c1(x)\n",
    "        x = self.dropout(x)\n",
    "        c = self.c2(x)\n",
    "        if self.pool:\n",
    "            p = self.pool(c)\n",
    "            return c, p\n",
    "        return c\n",
    "\n",
    "class UpConv(tf.keras.layers.Layer):\n",
    "    def __init__(self, filters):\n",
    "        super(UpConv, self).__init__()\n",
    "        self.ct1 = Conv2DTranspose(filters, (2, 2), strides=(2, 2), \n",
    "                                   padding='same')\n",
    "        self.c1 = Conv2D(\n",
    "            filters, (3, 3), activation='elu', kernel_initializer='he_normal', \n",
    "            padding='same')\n",
    "        self.dropout = Dropout(0.2)\n",
    "        self.c2 = Conv2D(\n",
    "            filters, (3, 3), activation='elu', kernel_initializer='he_normal', \n",
    "            padding='same')\n",
    "    def call(self, x, d):\n",
    "        x = self.ct1(x)\n",
    "        x = concatenate([x, d])\n",
    "        x = self.c1(x)\n",
    "        x = self.dropout(x)\n",
    "        x = self.c2(x)\n",
    "        return x\n",
    "    \n",
    "class Encoder(tf.keras.layers.Layer):\n",
    "    def __init__(self, filters_lst):\n",
    "        super(Encoder, self).__init__()\n",
    "        self.blocks = [DownConv(filters, True) for filters in filters_lst]\n",
    "        self.conv = DownConv(256, False)\n",
    "    def call(self, x):\n",
    "        c_lst = []\n",
    "        p = x\n",
    "        for block in self.blocks:\n",
    "            c, p = block(p)\n",
    "            c_lst += [c]\n",
    "        p = self.conv(p)\n",
    "        return p, c_lst\n",
    "    \n",
    "class Decoder(tf.keras.layers.Layer):\n",
    "    def __init__(self, filters_lst):\n",
    "        super(Decoder, self).__init__()\n",
    "        self.blocks = [UpConv(filters) for filters in filters_lst[::-1]]\n",
    "        self.conv = Conv2D(1, (1, 1), activation='sigmoid')\n",
    "    def call(self, p, c_lst):\n",
    "        for block, c in zip(self.blocks, c_lst[::-1]):\n",
    "            p = block(p, c)\n",
    "        p = self.conv(p)\n",
    "        return p\n",
    "    \n",
    "class UNet(tf.keras.Model):\n",
    "    def __init__(self, filters_lst=[16, 32, 64, 128]):\n",
    "        super(UNet, self).__init__()\n",
    "        self.scaler = Lambda(lambda x: x / 255)\n",
    "        self.encoder = Encoder(filters_lst)\n",
    "        self.decoder = Decoder(filters_lst)\n",
    "    def call(self, x):\n",
    "        x = self.scaler(x)\n",
    "        p, c_lst = self.encoder(x)\n",
    "        y = self.decoder(p, c_lst)\n",
    "        return y\n",
    "    def summary(self):\n",
    "        x = tf.keras.layers.Input(shape=[IMG_WIDTH, IMG_HEIGHT, IMG_CHANNELS])\n",
    "        model = tf.keras.Model(inputs=[x], outputs=self.call(x))\n",
    "        return model.summary()"
   ]
  },
  {
   "cell_type": "code",
   "execution_count": 61,
   "id": "48446735",
   "metadata": {},
   "outputs": [
    {
     "name": "stdout",
     "output_type": "stream",
     "text": [
      "Model: \"model_12\"\n",
      "__________________________________________________________________________________________________\n",
      "Layer (type)                    Output Shape         Param #     Connected to                     \n",
      "==================================================================================================\n",
      "input_13 (InputLayer)           [(None, 128, 128, 3) 0                                            \n",
      "__________________________________________________________________________________________________\n",
      "lambda_13 (Lambda)              (None, 128, 128, 3)  0           input_13[0][0]                   \n",
      "__________________________________________________________________________________________________\n",
      "encoder_12 (Encoder)            ((None, 8, 8, 256),  1178768     lambda_13[0][0]                  \n",
      "__________________________________________________________________________________________________\n",
      "decoder_12 (Decoder)            (None, 128, 128, 1)  762337      encoder_12[0][0]                 \n",
      "                                                                 encoder_12[0][1]                 \n",
      "                                                                 encoder_12[0][2]                 \n",
      "                                                                 encoder_12[0][3]                 \n",
      "                                                                 encoder_12[0][4]                 \n",
      "==================================================================================================\n",
      "Total params: 1,941,105\n",
      "Trainable params: 1,941,105\n",
      "Non-trainable params: 0\n",
      "__________________________________________________________________________________________________\n"
     ]
    }
   ],
   "source": [
    "model = UNet()\n",
    "model.compile(optimizer='adam', loss='binary_crossentropy', metrics=[mean_iou])\n",
    "model.summary()"
   ]
  },
  {
   "cell_type": "code",
   "execution_count": 63,
   "id": "506b2afb",
   "metadata": {},
   "outputs": [
    {
     "name": "stdout",
     "output_type": "stream",
     "text": [
      "Epoch 1/50\n",
      "38/38 [==============================] - 61s 2s/step - loss: 0.2095 - mean_iou: 0.7739 - val_loss: 0.4510 - val_mean_iou: 0.7590\n",
      "\n",
      "Epoch 00001: val_loss improved from inf to 0.45100, saving model to C:/Users/sinjy/jupyter_notebook/model\\model-dsbow\n"
     ]
    },
    {
     "name": "stderr",
     "output_type": "stream",
     "text": [
      "WARNING:absl:Found untraced functions such as down_conv_64_layer_call_and_return_conditional_losses, down_conv_64_layer_call_fn, conv2d_265_layer_call_and_return_conditional_losses, conv2d_265_layer_call_fn, down_conv_60_layer_call_and_return_conditional_losses while saving (showing 5 of 185). These functions will not be directly callable after loading.\n"
     ]
    },
    {
     "name": "stdout",
     "output_type": "stream",
     "text": [
      "INFO:tensorflow:Assets written to: C:/Users/sinjy/jupyter_notebook/model\\model-dsbow\\assets\n"
     ]
    },
    {
     "name": "stderr",
     "output_type": "stream",
     "text": [
      "INFO:tensorflow:Assets written to: C:/Users/sinjy/jupyter_notebook/model\\model-dsbow\\assets\n"
     ]
    },
    {
     "name": "stdout",
     "output_type": "stream",
     "text": [
      "Epoch 2/50\n",
      "38/38 [==============================] - 68s 2s/step - loss: 0.1606 - mean_iou: 0.8290 - val_loss: 0.2495 - val_mean_iou: 0.7920\n",
      "\n",
      "Epoch 00002: val_loss improved from 0.45100 to 0.24955, saving model to C:/Users/sinjy/jupyter_notebook/model\\model-dsbow\n"
     ]
    },
    {
     "name": "stderr",
     "output_type": "stream",
     "text": [
      "WARNING:absl:Found untraced functions such as down_conv_64_layer_call_and_return_conditional_losses, down_conv_64_layer_call_fn, conv2d_265_layer_call_and_return_conditional_losses, conv2d_265_layer_call_fn, down_conv_60_layer_call_and_return_conditional_losses while saving (showing 5 of 185). These functions will not be directly callable after loading.\n"
     ]
    },
    {
     "name": "stdout",
     "output_type": "stream",
     "text": [
      "INFO:tensorflow:Assets written to: C:/Users/sinjy/jupyter_notebook/model\\model-dsbow\\assets\n"
     ]
    },
    {
     "name": "stderr",
     "output_type": "stream",
     "text": [
      "INFO:tensorflow:Assets written to: C:/Users/sinjy/jupyter_notebook/model\\model-dsbow\\assets\n"
     ]
    },
    {
     "name": "stdout",
     "output_type": "stream",
     "text": [
      "Epoch 3/50\n",
      "38/38 [==============================] - 63s 2s/step - loss: 0.1398 - mean_iou: 0.8533 - val_loss: 0.1518 - val_mean_iou: 0.8553\n",
      "\n",
      "Epoch 00003: val_loss improved from 0.24955 to 0.15176, saving model to C:/Users/sinjy/jupyter_notebook/model\\model-dsbow\n"
     ]
    },
    {
     "name": "stderr",
     "output_type": "stream",
     "text": [
      "WARNING:absl:Found untraced functions such as down_conv_64_layer_call_and_return_conditional_losses, down_conv_64_layer_call_fn, conv2d_265_layer_call_and_return_conditional_losses, conv2d_265_layer_call_fn, down_conv_60_layer_call_and_return_conditional_losses while saving (showing 5 of 185). These functions will not be directly callable after loading.\n"
     ]
    },
    {
     "name": "stdout",
     "output_type": "stream",
     "text": [
      "INFO:tensorflow:Assets written to: C:/Users/sinjy/jupyter_notebook/model\\model-dsbow\\assets\n"
     ]
    },
    {
     "name": "stderr",
     "output_type": "stream",
     "text": [
      "INFO:tensorflow:Assets written to: C:/Users/sinjy/jupyter_notebook/model\\model-dsbow\\assets\n"
     ]
    },
    {
     "name": "stdout",
     "output_type": "stream",
     "text": [
      "Epoch 4/50\n",
      "38/38 [==============================] - 63s 2s/step - loss: 0.1282 - mean_iou: 0.8631 - val_loss: 0.1510 - val_mean_iou: 0.8574\n",
      "\n",
      "Epoch 00004: val_loss improved from 0.15176 to 0.15100, saving model to C:/Users/sinjy/jupyter_notebook/model\\model-dsbow\n"
     ]
    },
    {
     "name": "stderr",
     "output_type": "stream",
     "text": [
      "WARNING:absl:Found untraced functions such as down_conv_64_layer_call_and_return_conditional_losses, down_conv_64_layer_call_fn, conv2d_265_layer_call_and_return_conditional_losses, conv2d_265_layer_call_fn, down_conv_60_layer_call_and_return_conditional_losses while saving (showing 5 of 185). These functions will not be directly callable after loading.\n"
     ]
    },
    {
     "name": "stdout",
     "output_type": "stream",
     "text": [
      "INFO:tensorflow:Assets written to: C:/Users/sinjy/jupyter_notebook/model\\model-dsbow\\assets\n"
     ]
    },
    {
     "name": "stderr",
     "output_type": "stream",
     "text": [
      "INFO:tensorflow:Assets written to: C:/Users/sinjy/jupyter_notebook/model\\model-dsbow\\assets\n"
     ]
    },
    {
     "name": "stdout",
     "output_type": "stream",
     "text": [
      "Epoch 5/50\n",
      "38/38 [==============================] - 64s 2s/step - loss: 0.1333 - mean_iou: 0.8615 - val_loss: 0.2053 - val_mean_iou: 0.8234\n",
      "\n",
      "Epoch 00005: val_loss did not improve from 0.15100\n",
      "Epoch 6/50\n",
      "38/38 [==============================] - 64s 2s/step - loss: 0.1292 - mean_iou: 0.8617 - val_loss: 0.1162 - val_mean_iou: 0.8820\n",
      "\n",
      "Epoch 00006: val_loss improved from 0.15100 to 0.11622, saving model to C:/Users/sinjy/jupyter_notebook/model\\model-dsbow\n"
     ]
    },
    {
     "name": "stderr",
     "output_type": "stream",
     "text": [
      "WARNING:absl:Found untraced functions such as down_conv_64_layer_call_and_return_conditional_losses, down_conv_64_layer_call_fn, conv2d_265_layer_call_and_return_conditional_losses, conv2d_265_layer_call_fn, down_conv_60_layer_call_and_return_conditional_losses while saving (showing 5 of 185). These functions will not be directly callable after loading.\n"
     ]
    },
    {
     "name": "stdout",
     "output_type": "stream",
     "text": [
      "INFO:tensorflow:Assets written to: C:/Users/sinjy/jupyter_notebook/model\\model-dsbow\\assets\n"
     ]
    },
    {
     "name": "stderr",
     "output_type": "stream",
     "text": [
      "INFO:tensorflow:Assets written to: C:/Users/sinjy/jupyter_notebook/model\\model-dsbow\\assets\n"
     ]
    },
    {
     "name": "stdout",
     "output_type": "stream",
     "text": [
      "Epoch 7/50\n",
      "38/38 [==============================] - 64s 2s/step - loss: 0.1156 - mean_iou: 0.8771 - val_loss: 0.0993 - val_mean_iou: 0.9006\n",
      "\n",
      "Epoch 00007: val_loss improved from 0.11622 to 0.09926, saving model to C:/Users/sinjy/jupyter_notebook/model\\model-dsbow\n"
     ]
    },
    {
     "name": "stderr",
     "output_type": "stream",
     "text": [
      "WARNING:absl:Found untraced functions such as down_conv_64_layer_call_and_return_conditional_losses, down_conv_64_layer_call_fn, conv2d_265_layer_call_and_return_conditional_losses, conv2d_265_layer_call_fn, down_conv_60_layer_call_and_return_conditional_losses while saving (showing 5 of 185). These functions will not be directly callable after loading.\n"
     ]
    },
    {
     "name": "stdout",
     "output_type": "stream",
     "text": [
      "INFO:tensorflow:Assets written to: C:/Users/sinjy/jupyter_notebook/model\\model-dsbow\\assets\n"
     ]
    },
    {
     "name": "stderr",
     "output_type": "stream",
     "text": [
      "INFO:tensorflow:Assets written to: C:/Users/sinjy/jupyter_notebook/model\\model-dsbow\\assets\n"
     ]
    },
    {
     "name": "stdout",
     "output_type": "stream",
     "text": [
      "Epoch 8/50\n",
      "38/38 [==============================] - 64s 2s/step - loss: 0.1106 - mean_iou: 0.8815 - val_loss: 0.1346 - val_mean_iou: 0.8711\n",
      "\n",
      "Epoch 00008: val_loss did not improve from 0.09926\n",
      "Epoch 9/50\n",
      "38/38 [==============================] - 65s 2s/step - loss: 0.1069 - mean_iou: 0.8852 - val_loss: 0.1096 - val_mean_iou: 0.8889\n",
      "\n",
      "Epoch 00009: val_loss did not improve from 0.09926\n",
      "Epoch 10/50\n",
      "38/38 [==============================] - 65s 2s/step - loss: 0.1068 - mean_iou: 0.8868 - val_loss: 0.1122 - val_mean_iou: 0.8816\n",
      "\n",
      "Epoch 00010: val_loss did not improve from 0.09926\n",
      "Epoch 11/50\n",
      "38/38 [==============================] - 65s 2s/step - loss: 0.1091 - mean_iou: 0.8845 - val_loss: 0.0945 - val_mean_iou: 0.9054\n",
      "\n",
      "Epoch 00011: val_loss improved from 0.09926 to 0.09450, saving model to C:/Users/sinjy/jupyter_notebook/model\\model-dsbow\n"
     ]
    },
    {
     "name": "stderr",
     "output_type": "stream",
     "text": [
      "WARNING:absl:Found untraced functions such as down_conv_64_layer_call_and_return_conditional_losses, down_conv_64_layer_call_fn, conv2d_265_layer_call_and_return_conditional_losses, conv2d_265_layer_call_fn, down_conv_60_layer_call_and_return_conditional_losses while saving (showing 5 of 185). These functions will not be directly callable after loading.\n"
     ]
    },
    {
     "name": "stdout",
     "output_type": "stream",
     "text": [
      "INFO:tensorflow:Assets written to: C:/Users/sinjy/jupyter_notebook/model\\model-dsbow\\assets\n"
     ]
    },
    {
     "name": "stderr",
     "output_type": "stream",
     "text": [
      "INFO:tensorflow:Assets written to: C:/Users/sinjy/jupyter_notebook/model\\model-dsbow\\assets\n"
     ]
    },
    {
     "name": "stdout",
     "output_type": "stream",
     "text": [
      "Epoch 12/50\n",
      "38/38 [==============================] - 65s 2s/step - loss: 0.1041 - mean_iou: 0.8895 - val_loss: 0.0985 - val_mean_iou: 0.8884\n",
      "\n",
      "Epoch 00012: val_loss did not improve from 0.09450\n",
      "Epoch 13/50\n",
      "38/38 [==============================] - 68s 2s/step - loss: 0.1036 - mean_iou: 0.8893 - val_loss: 0.0890 - val_mean_iou: 0.9096\n",
      "\n",
      "Epoch 00013: val_loss improved from 0.09450 to 0.08903, saving model to C:/Users/sinjy/jupyter_notebook/model\\model-dsbow\n"
     ]
    },
    {
     "name": "stderr",
     "output_type": "stream",
     "text": [
      "WARNING:absl:Found untraced functions such as down_conv_64_layer_call_and_return_conditional_losses, down_conv_64_layer_call_fn, conv2d_265_layer_call_and_return_conditional_losses, conv2d_265_layer_call_fn, down_conv_60_layer_call_and_return_conditional_losses while saving (showing 5 of 185). These functions will not be directly callable after loading.\n"
     ]
    },
    {
     "name": "stdout",
     "output_type": "stream",
     "text": [
      "INFO:tensorflow:Assets written to: C:/Users/sinjy/jupyter_notebook/model\\model-dsbow\\assets\n"
     ]
    },
    {
     "name": "stderr",
     "output_type": "stream",
     "text": [
      "INFO:tensorflow:Assets written to: C:/Users/sinjy/jupyter_notebook/model\\model-dsbow\\assets\n"
     ]
    },
    {
     "name": "stdout",
     "output_type": "stream",
     "text": [
      "Epoch 14/50\n",
      "38/38 [==============================] - 69s 2s/step - loss: 0.1000 - mean_iou: 0.8917 - val_loss: 0.0933 - val_mean_iou: 0.9002\n",
      "\n",
      "Epoch 00014: val_loss did not improve from 0.08903\n",
      "Epoch 15/50\n",
      "38/38 [==============================] - 78s 2s/step - loss: 0.0986 - mean_iou: 0.8935 - val_loss: 0.0847 - val_mean_iou: 0.9138\n",
      "\n",
      "Epoch 00015: val_loss improved from 0.08903 to 0.08472, saving model to C:/Users/sinjy/jupyter_notebook/model\\model-dsbow\n"
     ]
    },
    {
     "name": "stderr",
     "output_type": "stream",
     "text": [
      "WARNING:absl:Found untraced functions such as down_conv_64_layer_call_and_return_conditional_losses, down_conv_64_layer_call_fn, conv2d_265_layer_call_and_return_conditional_losses, conv2d_265_layer_call_fn, down_conv_60_layer_call_and_return_conditional_losses while saving (showing 5 of 185). These functions will not be directly callable after loading.\n"
     ]
    },
    {
     "name": "stdout",
     "output_type": "stream",
     "text": [
      "INFO:tensorflow:Assets written to: C:/Users/sinjy/jupyter_notebook/model\\model-dsbow\\assets\n"
     ]
    },
    {
     "name": "stderr",
     "output_type": "stream",
     "text": [
      "INFO:tensorflow:Assets written to: C:/Users/sinjy/jupyter_notebook/model\\model-dsbow\\assets\n"
     ]
    },
    {
     "name": "stdout",
     "output_type": "stream",
     "text": [
      "Epoch 16/50\n",
      "38/38 [==============================] - 82s 2s/step - loss: 0.0959 - mean_iou: 0.8962 - val_loss: 0.0938 - val_mean_iou: 0.9103\n",
      "\n",
      "Epoch 00016: val_loss did not improve from 0.08472\n",
      "Epoch 17/50\n",
      "38/38 [==============================] - 82s 2s/step - loss: 0.0946 - mean_iou: 0.8979 - val_loss: 0.0923 - val_mean_iou: 0.9103\n",
      "\n",
      "Epoch 00017: val_loss did not improve from 0.08472\n",
      "Epoch 18/50\n",
      "38/38 [==============================] - 83s 2s/step - loss: 0.0962 - mean_iou: 0.8957 - val_loss: 0.0876 - val_mean_iou: 0.9113\n",
      "\n",
      "Epoch 00018: val_loss did not improve from 0.08472\n",
      "Epoch 19/50\n",
      "38/38 [==============================] - 83s 2s/step - loss: 0.0910 - mean_iou: 0.9009 - val_loss: 0.0875 - val_mean_iou: 0.9147\n",
      "\n",
      "Epoch 00019: val_loss did not improve from 0.08472\n",
      "Epoch 20/50\n",
      "38/38 [==============================] - 83s 2s/step - loss: 0.0923 - mean_iou: 0.8998 - val_loss: 0.0875 - val_mean_iou: 0.9106\n",
      "\n",
      "Epoch 00020: val_loss did not improve from 0.08472\n",
      "Epoch 00020: early stopping\n"
     ]
    }
   ],
   "source": [
    "earlystopper = EarlyStopping(patience=5, verbose=1)\n",
    "checkpointer = ModelCheckpoint(\n",
    "    'C:/Users/sinjy/jupyter_notebook/model/model-dsbow', verbose=1, \n",
    "    save_best_only=True)\n",
    "results = model.fit(X_train, Y_train, validation_split=0.1, batch_size=16, \n",
    "                   epochs=50, callbacks=[earlystopper, checkpointer])"
   ]
  }
 ],
 "metadata": {
  "kernelspec": {
   "display_name": "machine-learning",
   "language": "python",
   "name": "machine-learning"
  },
  "language_info": {
   "codemirror_mode": {
    "name": "ipython",
    "version": 3
   },
   "file_extension": ".py",
   "mimetype": "text/x-python",
   "name": "python",
   "nbconvert_exporter": "python",
   "pygments_lexer": "ipython3",
   "version": "3.7.11"
  }
 },
 "nbformat": 4,
 "nbformat_minor": 5
}
