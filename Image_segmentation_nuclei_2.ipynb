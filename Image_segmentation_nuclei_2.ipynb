{
 "cells": [
  {
   "cell_type": "markdown",
   "id": "cdf82db6",
   "metadata": {},
   "source": [
    "# Keras U-Net starter - LB 0.277"
   ]
  },
  {
   "cell_type": "code",
   "execution_count": 1,
   "id": "b96b43d2",
   "metadata": {},
   "outputs": [
    {
     "name": "stderr",
     "output_type": "stream",
     "text": [
      "C:\\Users\\sinjy\\anaconda3\\envs\\machine-learning\\lib\\site-packages\\skimage\\io\\manage_plugins.py:23: UserWarning: Your installed pillow version is < 8.1.2. Several security issues (CVE-2021-27921, CVE-2021-25290, CVE-2021-25291, CVE-2021-25293, and more) have been fixed in pillow 8.1.2 or higher. We recommend to upgrade this library.\n",
      "  from .collection import imread_collection_wrapper\n"
     ]
    }
   ],
   "source": [
    "import os\n",
    "import sys\n",
    "import random\n",
    "import warnings\n",
    "\n",
    "import numpy as np\n",
    "import pandas as pd\n",
    "\n",
    "import matplotlib.pyplot as plt\n",
    "\n",
    "from tqdm import tqdm\n",
    "from itertools import chain\n",
    "from skimage.io import imread, imshow, imread_collection, concatenate_images\n",
    "from skimage.transform import resize\n",
    "from skimage.morphology import label\n",
    "\n",
    "from keras.models import Model, load_model\n",
    "from keras.layers import Input\n",
    "from keras.layers.core import Dropout, Lambda\n",
    "from keras.layers.convolutional import Conv2D, Conv2DTranspose\n",
    "from keras.layers.pooling import MaxPooling2D\n",
    "from keras.layers.merge import concatenate\n",
    "from keras.callbacks import EarlyStopping, ModelCheckpoint\n",
    "from keras import backend as K\n",
    "\n",
    "import tensorflow as tf"
   ]
  },
  {
   "cell_type": "code",
   "execution_count": 2,
   "id": "63fbab45",
   "metadata": {},
   "outputs": [],
   "source": [
    "from pathlib import Path\n",
    "\n",
    "IMG_WIDTH = 128\n",
    "IMG_HEIGHT = 128\n",
    "IMG_CHANNELS = 3\n",
    "\n",
    "ROOT_DIR = Path('C:/Users/sinjy/jupyter_notebook/datasets')\n",
    "DATA_DIR = ROOT_DIR / 'kaggle_datasets' / 'nuclei'\n",
    "TRAIN_PATH = DATA_DIR / 'stage1_train'\n",
    "TEST_PATH = DATA_DIR / 'stage1_test'\n",
    "\n",
    "warnings.filterwarnings('ignore', category=UserWarning, module='skimage')\n",
    "seed = 42\n",
    "random.seed = seed\n",
    "np.random.seed = seed"
   ]
  },
  {
   "cell_type": "code",
   "execution_count": 3,
   "id": "0b863797",
   "metadata": {},
   "outputs": [],
   "source": [
    "train_ids = next(os.walk(TRAIN_PATH))[1]\n",
    "test_ids = next(os.walk(TEST_PATH))[1]"
   ]
  },
  {
   "cell_type": "markdown",
   "id": "c83866ed",
   "metadata": {},
   "source": [
    "## Get the data"
   ]
  },
  {
   "cell_type": "markdown",
   "id": "f7c87ca8",
   "metadata": {},
   "source": [
    "### resize image"
   ]
  },
  {
   "cell_type": "code",
   "execution_count": 24,
   "id": "c1d4b4c7",
   "metadata": {},
   "outputs": [
    {
     "name": "stdout",
     "output_type": "stream",
     "text": [
      "Getting and resizing train images and masks ...\n"
     ]
    },
    {
     "name": "stderr",
     "output_type": "stream",
     "text": [
      "C:\\Users\\sinjy\\anaconda3\\envs\\machine-learning\\lib\\site-packages\\ipykernel_launcher.py:2: DeprecationWarning: `np.bool` is a deprecated alias for the builtin `bool`. To silence this warning, use `bool` by itself. Doing this will not modify any behavior and is safe. If you specifically wanted the numpy scalar type, use `np.bool_` here.\n",
      "Deprecated in NumPy 1.20; for more details and guidance: https://numpy.org/devdocs/release/1.20.0-notes.html#deprecations\n",
      "  \n",
      "  0%|                                                                                          | 0/670 [00:00<?, ?it/s]C:\\Users\\sinjy\\anaconda3\\envs\\machine-learning\\lib\\site-packages\\ipykernel_launcher.py:10: DeprecationWarning: `np.bool` is a deprecated alias for the builtin `bool`. To silence this warning, use `bool` by itself. Doing this will not modify any behavior and is safe. If you specifically wanted the numpy scalar type, use `np.bool_` here.\n",
      "Deprecated in NumPy 1.20; for more details and guidance: https://numpy.org/devdocs/release/1.20.0-notes.html#deprecations\n",
      "  # Remove the CWD from sys.path while we load stuff.\n",
      "100%|████████████████████████████████████████████████████████████████████████████████| 670/670 [07:07<00:00,  1.57it/s]\n"
     ]
    }
   ],
   "source": [
    "X_train = np.zeros((len(train_ids), IMG_HEIGHT, IMG_WIDTH, IMG_CHANNELS), dtype=np.uint8)\n",
    "Y_train = np.zeros((len(train_ids), IMG_HEIGHT, IMG_WIDTH, 1), dtype=np.bool)\n",
    "print('Getting and resizing train images and masks ...')\n",
    "sys.stdout.flush()\n",
    "for n, id_ in tqdm(enumerate(train_ids), total=len(train_ids)):\n",
    "    path = TRAIN_PATH / id_\n",
    "    img = imread(path / 'images' / (id_ + '.png'))[:, :, :IMG_CHANNELS]\n",
    "    img = resize(img, (IMG_HEIGHT, IMG_WIDTH), mode='constant', preserve_range=True)\n",
    "    X_train[n] = img\n",
    "    mask = np.zeros((IMG_HEIGHT, IMG_WIDTH, 1), dtype=np.bool)\n",
    "    for mask_file in next(os.walk(path / 'masks'))[2]:\n",
    "        mask_ = imread(path / 'masks' / mask_file)\n",
    "        mask_ = np.expand_dims(resize(mask_, (IMG_HEIGHT, IMG_WIDTH), mode='constant', preserve_range=True),\n",
    "                               axis=-1)\n",
    "        mask = np.maximum(mask, mask_)\n",
    "    Y_train[n] = mask"
   ]
  },
  {
   "cell_type": "code",
   "execution_count": 29,
   "id": "66aae7b8",
   "metadata": {},
   "outputs": [
    {
     "name": "stdout",
     "output_type": "stream",
     "text": [
      "Getting and resizing test images ...\n"
     ]
    },
    {
     "name": "stderr",
     "output_type": "stream",
     "text": [
      "100%|██████████████████████████████████████████████████████████████████████████████████| 65/65 [00:01<00:00, 44.58it/s]"
     ]
    },
    {
     "name": "stdout",
     "output_type": "stream",
     "text": [
      "Done!\n"
     ]
    },
    {
     "name": "stderr",
     "output_type": "stream",
     "text": [
      "\n"
     ]
    }
   ],
   "source": [
    "X_test = np.zeros((len(test_ids), IMG_HEIGHT, IMG_WIDTH, IMG_CHANNELS), dtype=np.uint8)\n",
    "sizes_test = []\n",
    "print('Getting and resizing test images ...')\n",
    "sys.stdout.flush()\n",
    "for n, id_ in tqdm(enumerate(test_ids), total=len(test_ids)):\n",
    "    path = TEST_PATH / id_\n",
    "    img = imread(path / 'images' / (id_ + '.png'))[:, :, :IMG_CHANNELS]\n",
    "    sizes_test.append([img.shape[0], img.shape[1]])\n",
    "    img = resize(img, (IMG_HEIGHT, IMG_WIDTH), mode='constant', preserve_range=True)\n",
    "    X_test[n] = img\n",
    "\n",
    "print('Done!')"
   ]
  },
  {
   "cell_type": "markdown",
   "id": "973e65e9",
   "metadata": {},
   "source": [
    "### check mask"
   ]
  },
  {
   "cell_type": "code",
   "execution_count": 31,
   "id": "1ed7b8c5",
   "metadata": {},
   "outputs": [
    {
     "data": {
      "image/png": "[encoded data removed]",
      "text/plain": [
       "<Figure size 432x288 with 1 Axes>"
      ]
     },
     "metadata": {
      "needs_background": "light"
     },
     "output_type": "display_data"
    },
    {
     "data": {
      "image/png": "[encoded data removed]",
      "text/plain": [
       "<Figure size 432x288 with 1 Axes>"
      ]
     },
     "metadata": {
      "needs_background": "light"
     },
     "output_type": "display_data"
    }
   ],
   "source": [
    "ix = random.randint(0, len(train_ids))\n",
    "imshow(X_train[ix])\n",
    "plt.show()\n",
    "imshow(np.squeeze(Y_train[ix]))\n",
    "plt.show()"
   ]
  },
  {
   "cell_type": "markdown",
   "id": "061fbdcc",
   "metadata": {},
   "source": [
    "## Create our Keras metric"
   ]
  },
  {
   "cell_type": "code",
   "execution_count": 32,
   "id": "004ec961",
   "metadata": {},
   "outputs": [],
   "source": [
    "def mean_iou(y_true, y_pred):\n",
    "    prec = []\n",
    "    for t in np.arange(0.5, 1.0, 0.05):\n",
    "        y_pred_ = tf.to_int32(y_pred > t)\n",
    "        score, up_opt = tf.metrics.mean_iou(y_true, y_pred_, 2)\n",
    "        K.get_session().run(tf.local_variables_initializer())\n",
    "        with tf.control_dependencies([up_opt]):\n",
    "            score = tf.identity(score)\n",
    "        prec.append(score)\n",
    "    return K.mean(K.stack(prec), axis=0)"
   ]
  },
  {
   "cell_type": "markdown",
   "id": "2ccc329d",
   "metadata": {},
   "source": [
    "## Build and train our neural network"
   ]
  },
  {
   "cell_type": "markdown",
   "id": "489d8165",
   "metadata": {},
   "source": [
    "### Build U-Net model"
   ]
  },
  {
   "cell_type": "code",
   "execution_count": 39,
   "id": "c5d4ab77",
   "metadata": {},
   "outputs": [],
   "source": [
    "class DownConv(tf.keras.layers.Layer):\n",
    "    def __init__(self, filters, pool):\n",
    "        super(DownConv, self).__init__()\n",
    "        self.pool = pool\n",
    "        self.c1 = Conv2D(\n",
    "            filters, (3, 3), activation='elu', kernel_initializer='he_normal', \n",
    "            padding='same')\n",
    "        self.dropout = Dropout(0.2)\n",
    "        self.c2 = Conv2D(\n",
    "            filters, (3, 3), activation='elu', kernel_initializer='he_normal', \n",
    "            padding='same')\n",
    "        if pool:\n",
    "            self.pool = MaxPooling2D((2, 2))\n",
    "    def call(self, x):\n",
    "        x = self.c1(x)\n",
    "        x = self.dropout(x)\n",
    "        c = self.c2(x)\n",
    "        if self.pool:\n",
    "            p = self.pool(c)\n",
    "        else:\n",
    "            p = None\n",
    "        return c, p\n",
    "\n",
    "class UpConv(tf.keras.layers.Layer):\n",
    "    def __init__(self, filters):\n",
    "        super(UpConv, self).__init__()\n",
    "        self.ct1 = Conv2DTranspose(filters, (2, 2), strides=(2, 2), \n",
    "                                   padding='same')\n",
    "        self.c1 = Conv2D(\n",
    "            filters, (3, 3), activation='elu', kernel_initializer='he_normal', \n",
    "            padding='same')\n",
    "        self.dropout = Dropout(0.2)\n",
    "        self.c2 = Conv2D(\n",
    "            filters, (3, 3), activation='elu', kernel_initializer='he_normal', \n",
    "            padding='same')\n",
    "    def call(self, x, d):\n",
    "        x = self.ct1(x)\n",
    "        x = concatenate([x, d])\n",
    "        x = self.c1(x)\n",
    "        x = self.dropout(x)\n",
    "        x = self.c2(x)\n",
    "        return x\n",
    "    \n",
    "class Encoder(tf.keras.layers.Layer):\n",
    "    def __init__(self, filters_lst):\n",
    "        super(Encoder, self).__init__()\n",
    "        self.blocks = [DownConv(filters, True) for filters in filters_lst]\n",
    "    def call(self, x):\n",
    "        c_lst = []\n",
    "        p = x\n",
    "        for block in self.blocks:\n",
    "            c, p = block(p)\n",
    "            c_lst += [c]\n",
    "        return p, c_lst\n",
    "    \n",
    "class Decoder(tf.keras.layers.Layer):\n",
    "    def __init__(self, filters_lst):\n",
    "        super(Decoder, self).__init__()\n",
    "        self.blocks = [UpConv(filters) for filters in filters_lst[::-1]]\n",
    "    def call(self, p, c_lst):\n",
    "        for block, c in zip(self.blocks, c_lst[::-1]):\n",
    "            p = block(p, c)\n",
    "        return p\n",
    "    \n",
    "class UNet(tf.keras.Model):\n",
    "    def __init__(self, filters_lst=[16, 32, 64, 128]):\n",
    "        super(UNet, self).__init__()\n",
    "        self.scaler = Lambda(lambda x: x / 255)\n",
    "        self.encoder = Encoder(filters_lst)\n",
    "        self.c2 = DownConv(256, False)\n",
    "        self.decoder = Decoder(filters_lst)\n",
    "        self.c3 = Conv2D(1, (1, 1), activation='sigmoid')\n",
    "    def call(self, x):\n",
    "        x = self.scaler(x)\n",
    "        p, c_lst = self.encoder(x)\n",
    "        p, _ = self.c2(p)\n",
    "        y = self.decoder(p, c_lst)\n",
    "        y = self.c3(y)\n",
    "        return y\n",
    "    def summary(self):\n",
    "        x = tf.keras.layers.Input(shape=[IMG_WIDTH, IMG_HEIGHT, IMG_CHANNELS])\n",
    "        model = tf.keras.Model(inputs=[x], outputs=self.call(x))\n",
    "        return model.summary()"
   ]
  },
  {
   "cell_type": "code",
   "execution_count": 40,
   "id": "48446735",
   "metadata": {},
   "outputs": [
    {
     "name": "stdout",
     "output_type": "stream",
     "text": [
      "WARNING:tensorflow:\n",
      "The following Variables were used a Lambda layer's call (tf.nn.convolution_9), but\n",
      "are not present in its tracked objects:\n",
      "  <tf.Variable 'conv2d_75/kernel:0' shape=(1, 1, 16, 1) dtype=float32>\n",
      "It is possible that this is intended behavior, but it is more likely\n",
      "an omission. This is a strong indication that this layer should be\n",
      "formulated as a subclassed Layer rather than a Lambda layer.\n",
      "WARNING:tensorflow:\n",
      "The following Variables were used a Lambda layer's call (tf.nn.bias_add_9), but\n",
      "are not present in its tracked objects:\n",
      "  <tf.Variable 'conv2d_75/bias:0' shape=(1,) dtype=float32>\n",
      "It is possible that this is intended behavior, but it is more likely\n",
      "an omission. This is a strong indication that this layer should be\n",
      "formulated as a subclassed Layer rather than a Lambda layer.\n",
      "Model: \"model_3\"\n",
      "__________________________________________________________________________________________________\n",
      "Layer (type)                    Output Shape         Param #     Connected to                     \n",
      "==================================================================================================\n",
      "input_4 (InputLayer)            [(None, 128, 128, 3) 0                                            \n",
      "__________________________________________________________________________________________________\n",
      "tf.math.truediv_3 (TFOpLambda)  (None, 128, 128, 3)  0           input_4[0][0]                    \n",
      "__________________________________________________________________________________________________\n",
      "encoder_3 (Encoder)             ((None, 8, 8, 128),  293520      tf.math.truediv_3[0][0]          \n",
      "__________________________________________________________________________________________________\n",
      "down_conv_16 (DownConv)         multiple             885248      encoder_3[0][0]                  \n",
      "__________________________________________________________________________________________________\n",
      "decoder_3 (Decoder)             (None, 128, 128, 16) 762320      down_conv_16[0][0]               \n",
      "                                                                 encoder_3[0][1]                  \n",
      "                                                                 encoder_3[0][2]                  \n",
      "                                                                 encoder_3[0][3]                  \n",
      "                                                                 encoder_3[0][4]                  \n",
      "__________________________________________________________________________________________________\n",
      "tf.nn.convolution_9 (TFOpLambda (None, 128, 128, 1)  0           decoder_3[0][0]                  \n",
      "__________________________________________________________________________________________________\n",
      "tf.nn.bias_add_9 (TFOpLambda)   (None, 128, 128, 1)  0           tf.nn.convolution_9[0][0]        \n",
      "__________________________________________________________________________________________________\n",
      "tf.math.sigmoid_3 (TFOpLambda)  (None, 128, 128, 1)  0           tf.nn.bias_add_9[0][0]           \n",
      "==================================================================================================\n",
      "Total params: 1,941,088\n",
      "Trainable params: 1,941,088\n",
      "Non-trainable params: 0\n",
      "__________________________________________________________________________________________________\n"
     ]
    }
   ],
   "source": [
    "model = UNet()\n",
    "model.compile(optimizer='adam', loss='binary_crossentropy', metrics=[mean_iou])\n",
    "model.summary()"
   ]
  },
  {
   "cell_type": "code",
   "execution_count": null,
   "id": "506b2afb",
   "metadata": {},
   "outputs": [],
   "source": []
  }
 ],
 "metadata": {
  "kernelspec": {
   "display_name": "machine-learning",
   "language": "python",
   "name": "machine-learning"
  },
  "language_info": {
   "codemirror_mode": {
    "name": "ipython",
    "version": 3
   },
   "file_extension": ".py",
   "mimetype": "text/x-python",
   "name": "python",
   "nbconvert_exporter": "python",
   "pygments_lexer": "ipython3",
   "version": "3.7.11"
  }
 },
 "nbformat": 4,
 "nbformat_minor": 5
}
