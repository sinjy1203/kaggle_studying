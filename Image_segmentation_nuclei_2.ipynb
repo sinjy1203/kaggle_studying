{
 "cells": [
  {
   "cell_type": "markdown",
   "id": "cdf82db6",
   "metadata": {},
   "source": [
    "# Keras U-Net starter - LB 0.277"
   ]
  },
  {
   "cell_type": "code",
   "execution_count": 1,
   "id": "b96b43d2",
   "metadata": {},
   "outputs": [
    {
     "name": "stderr",
     "output_type": "stream",
     "text": [
      "C:\\Users\\sinjy\\anaconda3\\envs\\machine-learning\\lib\\site-packages\\skimage\\io\\manage_plugins.py:23: UserWarning: Your installed pillow version is < 8.1.2. Several security issues (CVE-2021-27921, CVE-2021-25290, CVE-2021-25291, CVE-2021-25293, and more) have been fixed in pillow 8.1.2 or higher. We recommend to upgrade this library.\n",
      "  from .collection import imread_collection_wrapper\n"
     ]
    }
   ],
   "source": [
    "import os\n",
    "import sys\n",
    "import random\n",
    "import warnings\n",
    "\n",
    "import numpy as np\n",
    "import pandas as pd\n",
    "\n",
    "import matplotlib.pyplot as plt\n",
    "\n",
    "from tqdm import tqdm\n",
    "from itertools import chain\n",
    "from skimage.io import imread, imshow, imread_collection, concatenate_images\n",
    "from skimage.transform import resize\n",
    "from skimage.morphology import label\n",
    "\n",
    "from tensorflow.keras.models import Model, load_model\n",
    "from tensorflow.keras.layers import Input\n",
    "from tensorflow.keras.layers import Dropout, Lambda\n",
    "from tensorflow.keras.layers import Conv2D, Conv2DTranspose\n",
    "from tensorflow.keras.layers import MaxPooling2D\n",
    "from tensorflow.keras.layers import concatenate\n",
    "from tensorflow.keras.callbacks import EarlyStopping, ModelCheckpoint\n",
    "# from tensorflow.keras import backend as K\n",
    "import tensorflow.compat.v1.keras.backend as K\n",
    "\n",
    "import tensorflow as tf"
   ]
  },
  {
   "cell_type": "code",
   "execution_count": 2,
   "id": "63fbab45",
   "metadata": {},
   "outputs": [],
   "source": [
    "from pathlib import Path\n",
    "\n",
    "IMG_WIDTH = 128\n",
    "IMG_HEIGHT = 128\n",
    "IMG_CHANNELS = 3\n",
    "\n",
    "ROOT_DIR = Path('C:/Users/sinjy/jupyter_notebook/datasets')\n",
    "DATA_DIR = ROOT_DIR / 'kaggle_datasets' / 'nuclei'\n",
    "TRAIN_PATH = DATA_DIR / 'stage1_train'\n",
    "TEST_PATH = DATA_DIR / 'stage2_test_final'\n",
    "\n",
    "warnings.filterwarnings('ignore', category=UserWarning, module='skimage')\n",
    "seed = 42\n",
    "random.seed = seed\n",
    "np.random.seed = seed"
   ]
  },
  {
   "cell_type": "code",
   "execution_count": 3,
   "id": "0b863797",
   "metadata": {},
   "outputs": [],
   "source": [
    "train_ids = next(os.walk(TRAIN_PATH))[1]\n",
    "test_ids = next(os.walk(TEST_PATH))[1]"
   ]
  },
  {
   "cell_type": "markdown",
   "id": "c83866ed",
   "metadata": {},
   "source": [
    "## Get the data"
   ]
  },
  {
   "cell_type": "markdown",
   "id": "f7c87ca8",
   "metadata": {},
   "source": [
    "### resize image"
   ]
  },
  {
   "cell_type": "code",
   "execution_count": 4,
   "id": "c1d4b4c7",
   "metadata": {},
   "outputs": [
    {
     "name": "stdout",
     "output_type": "stream",
     "text": [
      "Getting and resizing train images and masks ...\n"
     ]
    },
    {
     "name": "stderr",
     "output_type": "stream",
     "text": [
      "C:\\Users\\sinjy\\anaconda3\\envs\\machine-learning\\lib\\site-packages\\ipykernel_launcher.py:2: DeprecationWarning: `np.bool` is a deprecated alias for the builtin `bool`. To silence this warning, use `bool` by itself. Doing this will not modify any behavior and is safe. If you specifically wanted the numpy scalar type, use `np.bool_` here.\n",
      "Deprecated in NumPy 1.20; for more details and guidance: https://numpy.org/devdocs/release/1.20.0-notes.html#deprecations\n",
      "  \n",
      "  0%|                                                                                          | 0/670 [00:00<?, ?it/s]C:\\Users\\sinjy\\anaconda3\\envs\\machine-learning\\lib\\site-packages\\ipykernel_launcher.py:10: DeprecationWarning: `np.bool` is a deprecated alias for the builtin `bool`. To silence this warning, use `bool` by itself. Doing this will not modify any behavior and is safe. If you specifically wanted the numpy scalar type, use `np.bool_` here.\n",
      "Deprecated in NumPy 1.20; for more details and guidance: https://numpy.org/devdocs/release/1.20.0-notes.html#deprecations\n",
      "  # Remove the CWD from sys.path while we load stuff.\n",
      "100%|████████████████████████████████████████████████████████████████████████████████| 670/670 [05:50<00:00,  1.91it/s]\n"
     ]
    }
   ],
   "source": [
    "X_train = np.zeros((len(train_ids), IMG_HEIGHT, IMG_WIDTH, IMG_CHANNELS), dtype=np.uint8)\n",
    "Y_train = np.zeros((len(train_ids), IMG_HEIGHT, IMG_WIDTH, 1), dtype=np.bool)\n",
    "print('Getting and resizing train images and masks ...')\n",
    "sys.stdout.flush()\n",
    "for n, id_ in tqdm(enumerate(train_ids), total=len(train_ids)):\n",
    "    path = TRAIN_PATH / id_\n",
    "    img = imread(path / 'images' / (id_ + '.png'))[:, :, :IMG_CHANNELS]\n",
    "    img = resize(img, (IMG_HEIGHT, IMG_WIDTH), mode='constant', preserve_range=True)\n",
    "    X_train[n] = img\n",
    "    mask = np.zeros((IMG_HEIGHT, IMG_WIDTH, 1), dtype=np.bool)\n",
    "    for mask_file in next(os.walk(path / 'masks'))[2]:\n",
    "        mask_ = imread(path / 'masks' / mask_file)\n",
    "        mask_ = np.expand_dims(resize(mask_, (IMG_HEIGHT, IMG_WIDTH), mode='constant', preserve_range=True),\n",
    "                               axis=-1)\n",
    "        mask = np.maximum(mask, mask_)\n",
    "    Y_train[n] = mask"
   ]
  },
  {
   "cell_type": "code",
   "execution_count": 5,
   "id": "66aae7b8",
   "metadata": {},
   "outputs": [
    {
     "name": "stdout",
     "output_type": "stream",
     "text": [
      "Getting and resizing test images ...\n"
     ]
    },
    {
     "name": "stderr",
     "output_type": "stream",
     "text": [
      "100%|██████████████████████████████████████████████████████████████████████████████| 3019/3019 [01:23<00:00, 36.27it/s]"
     ]
    },
    {
     "name": "stdout",
     "output_type": "stream",
     "text": [
      "Done!\n"
     ]
    },
    {
     "name": "stderr",
     "output_type": "stream",
     "text": [
      "\n"
     ]
    }
   ],
   "source": [
    "X_test = np.zeros((len(test_ids), IMG_HEIGHT, IMG_WIDTH, IMG_CHANNELS), dtype=np.uint8)\n",
    "sizes_test = []\n",
    "print('Getting and resizing test images ...')\n",
    "sys.stdout.flush()\n",
    "for n, id_ in tqdm(enumerate(test_ids), total=len(test_ids)):\n",
    "    path = TEST_PATH / id_\n",
    "    try:\n",
    "        img = imread(path / 'images' / (id_ + '.png'))[:, :, :IMG_CHANNELS]\n",
    "    except:\n",
    "        img = imread(path / 'images' / (id_ + '.png'))\n",
    "        img = img / np.max(img) * 255\n",
    "        img = np.tile(img[:, :, np.newaxis], (1, 1, 3))\n",
    "        \n",
    "    sizes_test.append([img.shape[0], img.shape[1]])\n",
    "    img = resize(img, (IMG_HEIGHT, IMG_WIDTH), mode='constant', preserve_range=True)\n",
    "    X_test[n] = img\n",
    "\n",
    "print('Done!')"
   ]
  },
  {
   "cell_type": "markdown",
   "id": "973e65e9",
   "metadata": {},
   "source": [
    "### check mask"
   ]
  },
  {
   "cell_type": "code",
   "execution_count": 6,
   "id": "1ed7b8c5",
   "metadata": {},
   "outputs": [
    {
     "data": {
      "image/png": "[encoded data removed]",
      "text/plain": [
       "<Figure size 432x288 with 1 Axes>"
      ]
     },
     "metadata": {
      "needs_background": "light"
     },
     "output_type": "display_data"
    },
    {
     "data": {
      "image/png": "[encoded data removed]",
      "text/plain": [
       "<Figure size 432x288 with 1 Axes>"
      ]
     },
     "metadata": {
      "needs_background": "light"
     },
     "output_type": "display_data"
    }
   ],
   "source": [
    "ix = random.randint(0, len(train_ids))\n",
    "imshow(X_train[ix])\n",
    "plt.show()\n",
    "imshow(np.squeeze(Y_train[ix]))\n",
    "plt.show()"
   ]
  },
  {
   "cell_type": "markdown",
   "id": "061fbdcc",
   "metadata": {},
   "source": [
    "## Create our Keras metric"
   ]
  },
  {
   "cell_type": "code",
   "execution_count": 7,
   "id": "004ec961",
   "metadata": {},
   "outputs": [],
   "source": [
    "tf.config.run_functions_eagerly(True)\n",
    "def mean_iou(y_true, y_pred):\n",
    "    meaniou = tf.keras.metrics.MeanIoU(2)\n",
    "    prec = []\n",
    "    for t in np.arange(0.5, 1.0, 0.05):\n",
    "        y_pred_ = tf.cast(y_pred > t, tf.int32)\n",
    "        score = meaniou(y_true, y_pred_)\n",
    "        prec.append(score)\n",
    "    return K.mean(K.stack(prec), axis=0)"
   ]
  },
  {
   "cell_type": "markdown",
   "id": "2ccc329d",
   "metadata": {},
   "source": [
    "## Build and train our neural network"
   ]
  },
  {
   "cell_type": "markdown",
   "id": "489d8165",
   "metadata": {},
   "source": [
    "### Build U-Net model"
   ]
  },
  {
   "cell_type": "code",
   "execution_count": 8,
   "id": "c5d4ab77",
   "metadata": {},
   "outputs": [],
   "source": [
    "class DownConv(tf.keras.layers.Layer):\n",
    "    def __init__(self, filters, pool):\n",
    "        super(DownConv, self).__init__()\n",
    "        self.pool = pool\n",
    "        self.c1 = Conv2D(\n",
    "            filters, (3, 3), activation='elu', kernel_initializer='he_normal', \n",
    "            padding='same')\n",
    "        self.dropout = Dropout(0.2)\n",
    "        self.c2 = Conv2D(\n",
    "            filters, (3, 3), activation='elu', kernel_initializer='he_normal', \n",
    "            padding='same')\n",
    "        if pool:\n",
    "            self.pool = MaxPooling2D((2, 2))\n",
    "    def call(self, x):\n",
    "        x = self.c1(x)\n",
    "        x = self.dropout(x)\n",
    "        c = self.c2(x)\n",
    "        if self.pool:\n",
    "            p = self.pool(c)\n",
    "            return c, p\n",
    "        return c\n",
    "\n",
    "class UpConv(tf.keras.layers.Layer):\n",
    "    def __init__(self, filters):\n",
    "        super(UpConv, self).__init__()\n",
    "        self.ct1 = Conv2DTranspose(filters, (2, 2), strides=(2, 2), \n",
    "                                   padding='same')\n",
    "        self.c1 = Conv2D(\n",
    "            filters, (3, 3), activation='elu', kernel_initializer='he_normal', \n",
    "            padding='same')\n",
    "        self.dropout = Dropout(0.2)\n",
    "        self.c2 = Conv2D(\n",
    "            filters, (3, 3), activation='elu', kernel_initializer='he_normal', \n",
    "            padding='same')\n",
    "    def call(self, x, d):\n",
    "        x = self.ct1(x)\n",
    "        x = concatenate([x, d])\n",
    "        x = self.c1(x)\n",
    "        x = self.dropout(x)\n",
    "        x = self.c2(x)\n",
    "        return x\n",
    "    \n",
    "class Encoder(tf.keras.layers.Layer):\n",
    "    def __init__(self, filters_lst):\n",
    "        super(Encoder, self).__init__()\n",
    "        self.blocks = [DownConv(filters, True) for filters in filters_lst]\n",
    "        self.conv = DownConv(256, False)\n",
    "    def call(self, x):\n",
    "        c_lst = []\n",
    "        p = x\n",
    "        for block in self.blocks:\n",
    "            c, p = block(p)\n",
    "            c_lst += [c]\n",
    "        p = self.conv(p)\n",
    "        return p, c_lst\n",
    "    \n",
    "class Decoder(tf.keras.layers.Layer):\n",
    "    def __init__(self, filters_lst):\n",
    "        super(Decoder, self).__init__()\n",
    "        self.blocks = [UpConv(filters) for filters in filters_lst[::-1]]\n",
    "        self.conv = Conv2D(1, (1, 1), activation='sigmoid')\n",
    "    def call(self, p, c_lst):\n",
    "        for block, c in zip(self.blocks, c_lst[::-1]):\n",
    "            p = block(p, c)\n",
    "        p = self.conv(p)\n",
    "        return p\n",
    "    \n",
    "class UNet(tf.keras.Model):\n",
    "    def __init__(self, filters_lst=[16, 32, 64, 128]):\n",
    "        super(UNet, self).__init__()\n",
    "        self.scaler = Lambda(lambda x: x / 255)\n",
    "        self.encoder = Encoder(filters_lst)\n",
    "        self.decoder = Decoder(filters_lst)\n",
    "    def call(self, x):\n",
    "        x = self.scaler(x)\n",
    "        p, c_lst = self.encoder(x)\n",
    "        y = self.decoder(p, c_lst)\n",
    "        return y\n",
    "    def summary(self):\n",
    "        x = tf.keras.layers.Input(shape=[IMG_WIDTH, IMG_HEIGHT, IMG_CHANNELS])\n",
    "        model = tf.keras.Model(inputs=[x], outputs=self.call(x))\n",
    "        return model.summary()"
   ]
  },
  {
   "cell_type": "code",
   "execution_count": 9,
   "id": "48446735",
   "metadata": {},
   "outputs": [
    {
     "name": "stdout",
     "output_type": "stream",
     "text": [
      "Model: \"model\"\n",
      "__________________________________________________________________________________________________\n",
      "Layer (type)                    Output Shape         Param #     Connected to                     \n",
      "==================================================================================================\n",
      "input_1 (InputLayer)            [(None, 128, 128, 3) 0                                            \n",
      "__________________________________________________________________________________________________\n",
      "lambda (Lambda)                 (None, 128, 128, 3)  0           input_1[0][0]                    \n",
      "__________________________________________________________________________________________________\n",
      "encoder (Encoder)               ((None, 8, 8, 256),  1178768     lambda[0][0]                     \n",
      "__________________________________________________________________________________________________\n",
      "decoder (Decoder)               (None, 128, 128, 1)  762337      encoder[0][0]                    \n",
      "                                                                 encoder[0][1]                    \n",
      "                                                                 encoder[0][2]                    \n",
      "                                                                 encoder[0][3]                    \n",
      "                                                                 encoder[0][4]                    \n",
      "==================================================================================================\n",
      "Total params: 1,941,105\n",
      "Trainable params: 1,941,105\n",
      "Non-trainable params: 0\n",
      "__________________________________________________________________________________________________\n"
     ]
    }
   ],
   "source": [
    "model = UNet()\n",
    "model.compile(optimizer='adam', loss='binary_crossentropy', metrics=[mean_iou])\n",
    "model.summary()"
   ]
  },
  {
   "cell_type": "code",
   "execution_count": 10,
   "id": "506b2afb",
   "metadata": {},
   "outputs": [
    {
     "name": "stdout",
     "output_type": "stream",
     "text": [
      "Epoch 1/50\n"
     ]
    },
    {
     "name": "stderr",
     "output_type": "stream",
     "text": [
      "C:\\Users\\sinjy\\AppData\\Roaming\\Python\\Python37\\site-packages\\tensorflow\\python\\data\\ops\\dataset_ops.py:3704: UserWarning: Even though the `tf.config.experimental_run_functions_eagerly` option is set, this option does not apply to tf.data functions. To force eager execution of tf.data functions, please use `tf.data.experimental.enable.debug_mode()`.\n",
      "  \"Even though the `tf.config.experimental_run_functions_eagerly` \"\n"
     ]
    },
    {
     "name": "stdout",
     "output_type": "stream",
     "text": [
      "38/38 [==============================] - 70s 2s/step - loss: 0.4428 - mean_iou: 0.5436 - val_loss: 0.4375 - val_mean_iou: 0.5979\n",
      "\n",
      "Epoch 00001: val_loss improved from inf to 0.43752, saving model to C:/Users/sinjy/jupyter_notebook/model\\model-dsbow\n"
     ]
    },
    {
     "name": "stderr",
     "output_type": "stream",
     "text": [
      "WARNING:absl:Found untraced functions such as down_conv_4_layer_call_fn, down_conv_4_layer_call_and_return_conditional_losses, conv2d_18_layer_call_fn, conv2d_18_layer_call_and_return_conditional_losses, down_conv_layer_call_fn while saving (showing 5 of 185). These functions will not be directly callable after loading.\n"
     ]
    },
    {
     "name": "stdout",
     "output_type": "stream",
     "text": [
      "INFO:tensorflow:Assets written to: C:/Users/sinjy/jupyter_notebook/model\\model-dsbow\\assets\n"
     ]
    },
    {
     "name": "stderr",
     "output_type": "stream",
     "text": [
      "INFO:tensorflow:Assets written to: C:/Users/sinjy/jupyter_notebook/model\\model-dsbow\\assets\n"
     ]
    },
    {
     "name": "stdout",
     "output_type": "stream",
     "text": [
      "Epoch 2/50\n",
      "38/38 [==============================] - 71s 2s/step - loss: 0.2319 - mean_iou: 0.7525 - val_loss: 0.3204 - val_mean_iou: 0.7453\n",
      "\n",
      "Epoch 00002: val_loss improved from 0.43752 to 0.32037, saving model to C:/Users/sinjy/jupyter_notebook/model\\model-dsbow\n"
     ]
    },
    {
     "name": "stderr",
     "output_type": "stream",
     "text": [
      "WARNING:absl:Found untraced functions such as down_conv_4_layer_call_fn, down_conv_4_layer_call_and_return_conditional_losses, conv2d_18_layer_call_fn, conv2d_18_layer_call_and_return_conditional_losses, down_conv_layer_call_fn while saving (showing 5 of 185). These functions will not be directly callable after loading.\n"
     ]
    },
    {
     "name": "stdout",
     "output_type": "stream",
     "text": [
      "INFO:tensorflow:Assets written to: C:/Users/sinjy/jupyter_notebook/model\\model-dsbow\\assets\n"
     ]
    },
    {
     "name": "stderr",
     "output_type": "stream",
     "text": [
      "INFO:tensorflow:Assets written to: C:/Users/sinjy/jupyter_notebook/model\\model-dsbow\\assets\n"
     ]
    },
    {
     "name": "stdout",
     "output_type": "stream",
     "text": [
      "Epoch 3/50\n",
      "38/38 [==============================] - 73s 2s/step - loss: 0.1799 - mean_iou: 0.8120 - val_loss: 0.3475 - val_mean_iou: 0.7840\n",
      "\n",
      "Epoch 00003: val_loss did not improve from 0.32037\n",
      "Epoch 4/50\n",
      "38/38 [==============================] - 72s 2s/step - loss: 0.1524 - mean_iou: 0.8397 - val_loss: 0.1603 - val_mean_iou: 0.8312\n",
      "\n",
      "Epoch 00004: val_loss improved from 0.32037 to 0.16034, saving model to C:/Users/sinjy/jupyter_notebook/model\\model-dsbow\n"
     ]
    },
    {
     "name": "stderr",
     "output_type": "stream",
     "text": [
      "WARNING:absl:Found untraced functions such as down_conv_4_layer_call_fn, down_conv_4_layer_call_and_return_conditional_losses, conv2d_18_layer_call_fn, conv2d_18_layer_call_and_return_conditional_losses, down_conv_layer_call_fn while saving (showing 5 of 185). These functions will not be directly callable after loading.\n"
     ]
    },
    {
     "name": "stdout",
     "output_type": "stream",
     "text": [
      "INFO:tensorflow:Assets written to: C:/Users/sinjy/jupyter_notebook/model\\model-dsbow\\assets\n"
     ]
    },
    {
     "name": "stderr",
     "output_type": "stream",
     "text": [
      "INFO:tensorflow:Assets written to: C:/Users/sinjy/jupyter_notebook/model\\model-dsbow\\assets\n"
     ]
    },
    {
     "name": "stdout",
     "output_type": "stream",
     "text": [
      "Epoch 5/50\n",
      "38/38 [==============================] - 73s 2s/step - loss: 0.1419 - mean_iou: 0.8524 - val_loss: 0.1422 - val_mean_iou: 0.8411\n",
      "\n",
      "Epoch 00005: val_loss improved from 0.16034 to 0.14222, saving model to C:/Users/sinjy/jupyter_notebook/model\\model-dsbow\n"
     ]
    },
    {
     "name": "stderr",
     "output_type": "stream",
     "text": [
      "WARNING:absl:Found untraced functions such as down_conv_4_layer_call_fn, down_conv_4_layer_call_and_return_conditional_losses, conv2d_18_layer_call_fn, conv2d_18_layer_call_and_return_conditional_losses, down_conv_layer_call_fn while saving (showing 5 of 185). These functions will not be directly callable after loading.\n"
     ]
    },
    {
     "name": "stdout",
     "output_type": "stream",
     "text": [
      "INFO:tensorflow:Assets written to: C:/Users/sinjy/jupyter_notebook/model\\model-dsbow\\assets\n"
     ]
    },
    {
     "name": "stderr",
     "output_type": "stream",
     "text": [
      "INFO:tensorflow:Assets written to: C:/Users/sinjy/jupyter_notebook/model\\model-dsbow\\assets\n"
     ]
    },
    {
     "name": "stdout",
     "output_type": "stream",
     "text": [
      "Epoch 6/50\n",
      "38/38 [==============================] - 75s 2s/step - loss: 0.1299 - mean_iou: 0.8656 - val_loss: 0.1114 - val_mean_iou: 0.8784\n",
      "\n",
      "Epoch 00006: val_loss improved from 0.14222 to 0.11144, saving model to C:/Users/sinjy/jupyter_notebook/model\\model-dsbow\n"
     ]
    },
    {
     "name": "stderr",
     "output_type": "stream",
     "text": [
      "WARNING:absl:Found untraced functions such as down_conv_4_layer_call_fn, down_conv_4_layer_call_and_return_conditional_losses, conv2d_18_layer_call_fn, conv2d_18_layer_call_and_return_conditional_losses, down_conv_layer_call_fn while saving (showing 5 of 185). These functions will not be directly callable after loading.\n"
     ]
    },
    {
     "name": "stdout",
     "output_type": "stream",
     "text": [
      "INFO:tensorflow:Assets written to: C:/Users/sinjy/jupyter_notebook/model\\model-dsbow\\assets\n"
     ]
    },
    {
     "name": "stderr",
     "output_type": "stream",
     "text": [
      "INFO:tensorflow:Assets written to: C:/Users/sinjy/jupyter_notebook/model\\model-dsbow\\assets\n"
     ]
    },
    {
     "name": "stdout",
     "output_type": "stream",
     "text": [
      "Epoch 7/50\n",
      "38/38 [==============================] - 77s 2s/step - loss: 0.1244 - mean_iou: 0.8693 - val_loss: 0.1179 - val_mean_iou: 0.8652\n",
      "\n",
      "Epoch 00007: val_loss did not improve from 0.11144\n",
      "Epoch 8/50\n",
      "38/38 [==============================] - 76s 2s/step - loss: 0.1190 - mean_iou: 0.8739 - val_loss: 0.1011 - val_mean_iou: 0.8940\n",
      "\n",
      "Epoch 00008: val_loss improved from 0.11144 to 0.10106, saving model to C:/Users/sinjy/jupyter_notebook/model\\model-dsbow\n"
     ]
    },
    {
     "name": "stderr",
     "output_type": "stream",
     "text": [
      "WARNING:absl:Found untraced functions such as down_conv_4_layer_call_fn, down_conv_4_layer_call_and_return_conditional_losses, conv2d_18_layer_call_fn, conv2d_18_layer_call_and_return_conditional_losses, down_conv_layer_call_fn while saving (showing 5 of 185). These functions will not be directly callable after loading.\n"
     ]
    },
    {
     "name": "stdout",
     "output_type": "stream",
     "text": [
      "INFO:tensorflow:Assets written to: C:/Users/sinjy/jupyter_notebook/model\\model-dsbow\\assets\n"
     ]
    },
    {
     "name": "stderr",
     "output_type": "stream",
     "text": [
      "INFO:tensorflow:Assets written to: C:/Users/sinjy/jupyter_notebook/model\\model-dsbow\\assets\n"
     ]
    },
    {
     "name": "stdout",
     "output_type": "stream",
     "text": [
      "Epoch 9/50\n",
      "38/38 [==============================] - 76s 2s/step - loss: 0.1145 - mean_iou: 0.8785 - val_loss: 0.0975 - val_mean_iou: 0.8973\n",
      "\n",
      "Epoch 00009: val_loss improved from 0.10106 to 0.09754, saving model to C:/Users/sinjy/jupyter_notebook/model\\model-dsbow\n"
     ]
    },
    {
     "name": "stderr",
     "output_type": "stream",
     "text": [
      "WARNING:absl:Found untraced functions such as down_conv_4_layer_call_fn, down_conv_4_layer_call_and_return_conditional_losses, conv2d_18_layer_call_fn, conv2d_18_layer_call_and_return_conditional_losses, down_conv_layer_call_fn while saving (showing 5 of 185). These functions will not be directly callable after loading.\n"
     ]
    },
    {
     "name": "stdout",
     "output_type": "stream",
     "text": [
      "INFO:tensorflow:Assets written to: C:/Users/sinjy/jupyter_notebook/model\\model-dsbow\\assets\n"
     ]
    },
    {
     "name": "stderr",
     "output_type": "stream",
     "text": [
      "INFO:tensorflow:Assets written to: C:/Users/sinjy/jupyter_notebook/model\\model-dsbow\\assets\n"
     ]
    },
    {
     "name": "stdout",
     "output_type": "stream",
     "text": [
      "Epoch 10/50\n",
      "38/38 [==============================] - 75s 2s/step - loss: 0.1107 - mean_iou: 0.8818 - val_loss: 0.0964 - val_mean_iou: 0.9012\n",
      "\n",
      "Epoch 00010: val_loss improved from 0.09754 to 0.09644, saving model to C:/Users/sinjy/jupyter_notebook/model\\model-dsbow\n"
     ]
    },
    {
     "name": "stderr",
     "output_type": "stream",
     "text": [
      "WARNING:absl:Found untraced functions such as down_conv_4_layer_call_fn, down_conv_4_layer_call_and_return_conditional_losses, conv2d_18_layer_call_fn, conv2d_18_layer_call_and_return_conditional_losses, down_conv_layer_call_fn while saving (showing 5 of 185). These functions will not be directly callable after loading.\n"
     ]
    },
    {
     "name": "stdout",
     "output_type": "stream",
     "text": [
      "INFO:tensorflow:Assets written to: C:/Users/sinjy/jupyter_notebook/model\\model-dsbow\\assets\n"
     ]
    },
    {
     "name": "stderr",
     "output_type": "stream",
     "text": [
      "INFO:tensorflow:Assets written to: C:/Users/sinjy/jupyter_notebook/model\\model-dsbow\\assets\n"
     ]
    },
    {
     "name": "stdout",
     "output_type": "stream",
     "text": [
      "Epoch 11/50\n",
      "38/38 [==============================] - 79s 2s/step - loss: 0.1069 - mean_iou: 0.8873 - val_loss: 0.1026 - val_mean_iou: 0.8841\n",
      "\n",
      "Epoch 00011: val_loss did not improve from 0.09644\n",
      "Epoch 12/50\n",
      "38/38 [==============================] - 79s 2s/step - loss: 0.1100 - mean_iou: 0.8823 - val_loss: 0.1027 - val_mean_iou: 0.8929\n",
      "\n",
      "Epoch 00012: val_loss did not improve from 0.09644\n",
      "Epoch 13/50\n",
      "38/38 [==============================] - 79s 2s/step - loss: 0.1065 - mean_iou: 0.8862 - val_loss: 0.0896 - val_mean_iou: 0.9047\n",
      "\n",
      "Epoch 00013: val_loss improved from 0.09644 to 0.08965, saving model to C:/Users/sinjy/jupyter_notebook/model\\model-dsbow\n"
     ]
    },
    {
     "name": "stderr",
     "output_type": "stream",
     "text": [
      "WARNING:absl:Found untraced functions such as down_conv_4_layer_call_fn, down_conv_4_layer_call_and_return_conditional_losses, conv2d_18_layer_call_fn, conv2d_18_layer_call_and_return_conditional_losses, down_conv_layer_call_fn while saving (showing 5 of 185). These functions will not be directly callable after loading.\n"
     ]
    },
    {
     "name": "stdout",
     "output_type": "stream",
     "text": [
      "INFO:tensorflow:Assets written to: C:/Users/sinjy/jupyter_notebook/model\\model-dsbow\\assets\n"
     ]
    },
    {
     "name": "stderr",
     "output_type": "stream",
     "text": [
      "INFO:tensorflow:Assets written to: C:/Users/sinjy/jupyter_notebook/model\\model-dsbow\\assets\n"
     ]
    },
    {
     "name": "stdout",
     "output_type": "stream",
     "text": [
      "Epoch 14/50\n",
      "38/38 [==============================] - 80s 2s/step - loss: 0.1038 - mean_iou: 0.8884 - val_loss: 0.1023 - val_mean_iou: 0.8909\n",
      "\n",
      "Epoch 00014: val_loss did not improve from 0.08965\n",
      "Epoch 15/50\n",
      "38/38 [==============================] - 78s 2s/step - loss: 0.0998 - mean_iou: 0.8931 - val_loss: 0.0885 - val_mean_iou: 0.9089\n",
      "\n",
      "Epoch 00015: val_loss improved from 0.08965 to 0.08852, saving model to C:/Users/sinjy/jupyter_notebook/model\\model-dsbow\n"
     ]
    },
    {
     "name": "stderr",
     "output_type": "stream",
     "text": [
      "WARNING:absl:Found untraced functions such as down_conv_4_layer_call_fn, down_conv_4_layer_call_and_return_conditional_losses, conv2d_18_layer_call_fn, conv2d_18_layer_call_and_return_conditional_losses, down_conv_layer_call_fn while saving (showing 5 of 185). These functions will not be directly callable after loading.\n"
     ]
    },
    {
     "name": "stdout",
     "output_type": "stream",
     "text": [
      "INFO:tensorflow:Assets written to: C:/Users/sinjy/jupyter_notebook/model\\model-dsbow\\assets\n"
     ]
    },
    {
     "name": "stderr",
     "output_type": "stream",
     "text": [
      "INFO:tensorflow:Assets written to: C:/Users/sinjy/jupyter_notebook/model\\model-dsbow\\assets\n"
     ]
    },
    {
     "name": "stdout",
     "output_type": "stream",
     "text": [
      "Epoch 16/50\n",
      "38/38 [==============================] - 79s 2s/step - loss: 0.0975 - mean_iou: 0.8951 - val_loss: 0.1044 - val_mean_iou: 0.8899\n",
      "\n",
      "Epoch 00016: val_loss did not improve from 0.08852\n",
      "Epoch 17/50\n",
      "38/38 [==============================] - 80s 2s/step - loss: 0.0989 - mean_iou: 0.8930 - val_loss: 0.0891 - val_mean_iou: 0.9099\n",
      "\n",
      "Epoch 00017: val_loss did not improve from 0.08852\n",
      "Epoch 18/50\n",
      "38/38 [==============================] - 79s 2s/step - loss: 0.0959 - mean_iou: 0.8959 - val_loss: 0.0929 - val_mean_iou: 0.8989\n",
      "\n",
      "Epoch 00018: val_loss did not improve from 0.08852\n",
      "Epoch 19/50\n",
      "38/38 [==============================] - 80s 2s/step - loss: 0.0949 - mean_iou: 0.8966 - val_loss: 0.0820 - val_mean_iou: 0.9130\n",
      "\n",
      "Epoch 00019: val_loss improved from 0.08852 to 0.08203, saving model to C:/Users/sinjy/jupyter_notebook/model\\model-dsbow\n"
     ]
    },
    {
     "name": "stderr",
     "output_type": "stream",
     "text": [
      "WARNING:absl:Found untraced functions such as down_conv_4_layer_call_fn, down_conv_4_layer_call_and_return_conditional_losses, conv2d_18_layer_call_fn, conv2d_18_layer_call_and_return_conditional_losses, down_conv_layer_call_fn while saving (showing 5 of 185). These functions will not be directly callable after loading.\n"
     ]
    },
    {
     "name": "stdout",
     "output_type": "stream",
     "text": [
      "INFO:tensorflow:Assets written to: C:/Users/sinjy/jupyter_notebook/model\\model-dsbow\\assets\n"
     ]
    },
    {
     "name": "stderr",
     "output_type": "stream",
     "text": [
      "INFO:tensorflow:Assets written to: C:/Users/sinjy/jupyter_notebook/model\\model-dsbow\\assets\n"
     ]
    },
    {
     "name": "stdout",
     "output_type": "stream",
     "text": [
      "Epoch 20/50\n",
      "38/38 [==============================] - 79s 2s/step - loss: 0.0924 - mean_iou: 0.8991 - val_loss: 0.0833 - val_mean_iou: 0.9106\n",
      "\n",
      "Epoch 00020: val_loss did not improve from 0.08203\n",
      "Epoch 21/50\n",
      "38/38 [==============================] - 80s 2s/step - loss: 0.0906 - mean_iou: 0.9000 - val_loss: 0.0968 - val_mean_iou: 0.8954\n",
      "\n",
      "Epoch 00021: val_loss did not improve from 0.08203\n",
      "Epoch 22/50\n",
      "38/38 [==============================] - 80s 2s/step - loss: 0.0893 - mean_iou: 0.9017 - val_loss: 0.0852 - val_mean_iou: 0.9106\n",
      "\n",
      "Epoch 00022: val_loss did not improve from 0.08203\n",
      "Epoch 23/50\n",
      "38/38 [==============================] - 79s 2s/step - loss: 0.0886 - mean_iou: 0.9018 - val_loss: 0.0809 - val_mean_iou: 0.9115\n",
      "\n",
      "Epoch 00023: val_loss improved from 0.08203 to 0.08095, saving model to C:/Users/sinjy/jupyter_notebook/model\\model-dsbow\n"
     ]
    },
    {
     "name": "stderr",
     "output_type": "stream",
     "text": [
      "WARNING:absl:Found untraced functions such as down_conv_4_layer_call_fn, down_conv_4_layer_call_and_return_conditional_losses, conv2d_18_layer_call_fn, conv2d_18_layer_call_and_return_conditional_losses, down_conv_layer_call_fn while saving (showing 5 of 185). These functions will not be directly callable after loading.\n"
     ]
    },
    {
     "name": "stdout",
     "output_type": "stream",
     "text": [
      "INFO:tensorflow:Assets written to: C:/Users/sinjy/jupyter_notebook/model\\model-dsbow\\assets\n"
     ]
    },
    {
     "name": "stderr",
     "output_type": "stream",
     "text": [
      "INFO:tensorflow:Assets written to: C:/Users/sinjy/jupyter_notebook/model\\model-dsbow\\assets\n"
     ]
    },
    {
     "name": "stdout",
     "output_type": "stream",
     "text": [
      "Epoch 24/50\n",
      "38/38 [==============================] - 80s 2s/step - loss: 0.0891 - mean_iou: 0.9010 - val_loss: 0.0873 - val_mean_iou: 0.9162\n",
      "\n",
      "Epoch 00024: val_loss did not improve from 0.08095\n",
      "Epoch 25/50\n",
      "38/38 [==============================] - 81s 2s/step - loss: 0.0887 - mean_iou: 0.9026 - val_loss: 0.0821 - val_mean_iou: 0.9144\n",
      "\n",
      "Epoch 00025: val_loss did not improve from 0.08095\n",
      "Epoch 26/50\n",
      "38/38 [==============================] - 85s 2s/step - loss: 0.0866 - mean_iou: 0.9036 - val_loss: 0.0837 - val_mean_iou: 0.9129\n",
      "\n",
      "Epoch 00026: val_loss did not improve from 0.08095\n",
      "Epoch 27/50\n",
      "38/38 [==============================] - 84s 2s/step - loss: 0.0854 - mean_iou: 0.9051 - val_loss: 0.0838 - val_mean_iou: 0.9142\n",
      "\n",
      "Epoch 00027: val_loss did not improve from 0.08095\n",
      "Epoch 28/50\n",
      "38/38 [==============================] - 84s 2s/step - loss: 0.0823 - mean_iou: 0.9060 - val_loss: 0.0827 - val_mean_iou: 0.9131\n",
      "\n",
      "Epoch 00028: val_loss did not improve from 0.08095\n",
      "Epoch 00028: early stopping\n"
     ]
    }
   ],
   "source": [
    "earlystopper = EarlyStopping(patience=5, verbose=1)\n",
    "checkpointer = ModelCheckpoint(\n",
    "    'C:/Users/sinjy/jupyter_notebook/model/model-dsbow', verbose=1, \n",
    "    save_best_only=True)\n",
    "results = model.fit(X_train, Y_train, validation_split=0.1, batch_size=16, \n",
    "                   epochs=50, callbacks=[earlystopper, checkpointer])"
   ]
  },
  {
   "cell_type": "code",
   "execution_count": 11,
   "id": "bb81a95e",
   "metadata": {},
   "outputs": [
    {
     "data": {
      "image/png": "[encoded data removed]",
      "text/plain": [
       "<Figure size 432x288 with 2 Axes>"
      ]
     },
     "metadata": {
      "needs_background": "light"
     },
     "output_type": "display_data"
    }
   ],
   "source": [
    "import matplotlib.pyplot as plt\n",
    "\n",
    "x = range(len(results.history['loss']))\n",
    "plt.subplot(121)\n",
    "plt.plot(x, results.history['loss'], label='loss')\n",
    "plt.plot(x, results.history['val_loss'], label='val_loss')\n",
    "plt.legend()\n",
    "\n",
    "plt.subplot(122)\n",
    "plt.plot(x, results.history['mean_iou'], label='mean_iou')\n",
    "plt.plot(x, results.history['val_mean_iou'], label='val_mean_iou')\n",
    "plt.legend()\n",
    "\n",
    "plt.show()"
   ]
  },
  {
   "cell_type": "markdown",
   "id": "6905a7e1",
   "metadata": {},
   "source": [
    "## Make predictions"
   ]
  },
  {
   "cell_type": "code",
   "execution_count": 12,
   "id": "f2e539f0",
   "metadata": {},
   "outputs": [
    {
     "name": "stderr",
     "output_type": "stream",
     "text": [
      "C:\\Users\\sinjy\\AppData\\Roaming\\Python\\Python37\\site-packages\\tensorflow\\python\\data\\ops\\dataset_ops.py:3704: UserWarning: Even though the `tf.config.experimental_run_functions_eagerly` option is set, this option does not apply to tf.data functions. To force eager execution of tf.data functions, please use `tf.data.experimental.enable.debug_mode()`.\n",
      "  \"Even though the `tf.config.experimental_run_functions_eagerly` \"\n"
     ]
    },
    {
     "name": "stdout",
     "output_type": "stream",
     "text": [
      "19/19 [==============================] - 8s 435ms/step\n",
      "3/3 [==============================] - 1s 289ms/step\n",
      "95/95 [==============================] - 47s 492ms/step\n"
     ]
    }
   ],
   "source": [
    "model = load_model('C:/Users/sinjy/jupyter_notebook/model/model-dsbow', custom_objects={'mean_iou': mean_iou})\n",
    "preds_train = model.predict(X_train[:int(X_train.shape[0]*0.9)], verbose=1)\n",
    "preds_val = model.predict(X_train[int(X_train.shape[0]*0.9):], verbose=1)\n",
    "preds_test = model.predict(X_test, verbose=1)\n",
    "\n",
    "preds_train_t = (preds_train > 0.5).astype(np.uint8)\n",
    "preds_val_t = (preds_val > 0.5).astype(np.uint8)\n",
    "preds_test_t = (preds_test > 0.5).astype(np.uint8)\n",
    "\n",
    "preds_test_upsampled = []\n",
    "for i in range(len(preds_test)):\n",
    "    preds_test_upsampled.append(\n",
    "        resize(np.squeeze(preds_test[i]), (sizes_test[i][0], sizes_test[i][1]), \n",
    "               mode='constant', preserve_range=True))"
   ]
  },
  {
   "cell_type": "markdown",
   "id": "beff3f56",
   "metadata": {},
   "source": [
    "### check train data"
   ]
  },
  {
   "cell_type": "code",
   "execution_count": 13,
   "id": "0f77bec4",
   "metadata": {},
   "outputs": [
    {
     "data": {
      "image/png": "[encoded data removed]",
      "text/plain": [
       "<Figure size 432x288 with 1 Axes>"
      ]
     },
     "metadata": {
      "needs_background": "light"
     },
     "output_type": "display_data"
    },
    {
     "data": {
      "image/png": "[encoded data removed]",
      "text/plain": [
       "<Figure size 432x288 with 1 Axes>"
      ]
     },
     "metadata": {
      "needs_background": "light"
     },
     "output_type": "display_data"
    },
    {
     "data": {
      "image/png": "[encoded data removed]",
      "text/plain": [
       "<Figure size 432x288 with 2 Axes>"
      ]
     },
     "metadata": {
      "needs_background": "light"
     },
     "output_type": "display_data"
    }
   ],
   "source": [
    "ix = random.randint(0, len(preds_train_t))\n",
    "imshow(X_train[ix])\n",
    "plt.show()\n",
    "imshow(np.squeeze(Y_train[ix]))\n",
    "plt.show()\n",
    "imshow(np.squeeze(preds_train_t[ix]))\n",
    "plt.show()"
   ]
  },
  {
   "cell_type": "markdown",
   "id": "7d8424a9",
   "metadata": {},
   "source": [
    "### check validation data"
   ]
  },
  {
   "cell_type": "code",
   "execution_count": 14,
   "id": "2a173c6e",
   "metadata": {},
   "outputs": [
    {
     "data": {
      "image/png": "[encoded data removed]",
      "text/plain": [
       "<Figure size 432x288 with 1 Axes>"
      ]
     },
     "metadata": {
      "needs_background": "light"
     },
     "output_type": "display_data"
    },
    {
     "data": {
      "image/png": "[encoded data removed]",
      "text/plain": [
       "<Figure size 432x288 with 1 Axes>"
      ]
     },
     "metadata": {
      "needs_background": "light"
     },
     "output_type": "display_data"
    },
    {
     "data": {
      "image/png": "[encoded data removed]",
      "text/plain": [
       "<Figure size 432x288 with 2 Axes>"
      ]
     },
     "metadata": {
      "needs_background": "light"
     },
     "output_type": "display_data"
    }
   ],
   "source": [
    "ix = random.randint(0, len(preds_val_t))\n",
    "imshow(X_train[int(X_train.shape[0]*0.9):][ix])\n",
    "plt.show()\n",
    "imshow(np.squeeze(Y_train[int(Y_train.shape[0]*0.9):][ix]))\n",
    "plt.show()\n",
    "imshow(np.squeeze(preds_val_t[ix]))\n",
    "plt.show()"
   ]
  },
  {
   "cell_type": "markdown",
   "id": "1946f4b7",
   "metadata": {},
   "source": [
    "## Encode and submit our results"
   ]
  },
  {
   "cell_type": "code",
   "execution_count": 33,
   "id": "232f180e",
   "metadata": {},
   "outputs": [],
   "source": [
    "def rle_encoding(x):\n",
    "    dots = np.where(x.T.flatten() == 1)[0]\n",
    "    run_lengths = []\n",
    "    prev = -2\n",
    "    for b in dots:\n",
    "        if (b>prev+1): run_lengths.extend((b + 1, 0))\n",
    "        run_lengths[-1] += 1\n",
    "        prev = b\n",
    "    return run_lengths\n",
    "\n",
    "def prob_to_rles(x, cutoff=0.5):\n",
    "    lab_img = label(x > cutoff)\n",
    "    for i in range(1, lab_img.max() + 1):\n",
    "        yield rle_encoding(lab_img == i)"
   ]
  },
  {
   "cell_type": "code",
   "execution_count": 36,
   "id": "a0b3963a",
   "metadata": {},
   "outputs": [],
   "source": [
    "new_test_ids = []\n",
    "rles = []\n",
    "for n, id_ in enumerate(test_ids):\n",
    "    rle = sum(list(prob_to_rles(preds_test_upsampled[n])), [])\n",
    "    rles.append(rle)"
   ]
  },
  {
   "cell_type": "code",
   "execution_count": 37,
   "id": "8ff2c803",
   "metadata": {},
   "outputs": [],
   "source": [
    "sub = pd.DataFrame()\n",
    "sub['ImageId'] = test_ids\n",
    "sub['EncodedPixels'] = pd.Series(rles).apply(lambda x: ' '.join(str(y) for y in x))\n",
    "sub.to_csv(ROOT_DIR / 'kaggle_predict' / 'sub-dsbow.csv', index=False)"
   ]
  }
 ],
 "metadata": {
  "kernelspec": {
   "display_name": "machine-learning",
   "language": "python",
   "name": "machine-learning"
  },
  "language_info": {
   "codemirror_mode": {
    "name": "ipython",
    "version": 3
   },
   "file_extension": ".py",
   "mimetype": "text/x-python",
   "name": "python",
   "nbconvert_exporter": "python",
   "pygments_lexer": "ipython3",
   "version": "3.7.11"
  }
 },
 "nbformat": 4,
 "nbformat_minor": 5
}
