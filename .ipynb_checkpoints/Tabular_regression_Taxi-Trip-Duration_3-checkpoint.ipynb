{
 "cells": [
  {
   "cell_type": "code",
   "execution_count": 1,
   "id": "e1545b11",
   "metadata": {},
   "outputs": [],
   "source": [
    "import numpy as np\n",
    "import pandas as pd\n",
    "import xgboost as xgb\n",
    "from sklearn.preprocessing import LabelEncoder"
   ]
  },
  {
   "cell_type": "code",
   "execution_count": 2,
   "id": "1ddd65b7",
   "metadata": {},
   "outputs": [],
   "source": [
    "from pathlib import Path\n",
    "data_dir = Path('C:/Users/sinjy/jupyter_notebook/datasets/kaggle_datasets/nyc-taxi-trip-duration')\n",
    "train = pd.read_csv(data_dir / 'train.csv')\n",
    "test = pd.read_csv(data_dir / 'test.csv')"
   ]
  },
  {
   "cell_type": "code",
   "execution_count": 3,
   "id": "9a9e3b4a",
   "metadata": {},
   "outputs": [],
   "source": [
    "train['pickup_datetime'] = pd.to_datetime(train['pickup_datetime'])\n",
    "test['pickup_datetime'] = pd.to_datetime(test['pickup_datetime'])"
   ]
  },
  {
   "cell_type": "markdown",
   "id": "9e480c5b",
   "metadata": {},
   "source": [
    "### store_and_fwd_flag ( binary ) => numeric"
   ]
  },
  {
   "cell_type": "code",
   "execution_count": 4,
   "id": "49d6c15d",
   "metadata": {},
   "outputs": [],
   "source": [
    "le = LabelEncoder()\n",
    "le.fit(train['store_and_fwd_flag'])\n",
    "train['store_and_fwd_flag'] = le.transform(train['store_and_fwd_flag'])\n",
    "test['store_and_fwd_flag'] = le.transform(test['store_and_fwd_flag'])"
   ]
  },
  {
   "cell_type": "markdown",
   "id": "89429dc1",
   "metadata": {},
   "source": [
    "## New features"
   ]
  },
  {
   "cell_type": "markdown",
   "id": "04ab15cd",
   "metadata": {},
   "source": [
    "### date features"
   ]
  },
  {
   "cell_type": "code",
   "execution_count": 5,
   "id": "de785699",
   "metadata": {},
   "outputs": [],
   "source": [
    "train['month'] = train['pickup_datetime'].dt.month\n",
    "train['day'] = train['pickup_datetime'].dt.day\n",
    "train['weekday'] = train['pickup_datetime'].dt.weekday\n",
    "train['hour'] = train['pickup_datetime'].dt.hour\n",
    "train['minute'] = train['pickup_datetime'].dt.minute\n",
    "\n",
    "test['month'] = test['pickup_datetime'].dt.month\n",
    "test['day'] = test['pickup_datetime'].dt.day\n",
    "test['weekday'] = test['pickup_datetime'].dt.weekday\n",
    "test['hour'] = test['pickup_datetime'].dt.hour\n",
    "test['minute'] = test['pickup_datetime'].dt.minute"
   ]
  },
  {
   "cell_type": "markdown",
   "id": "e503c4f7",
   "metadata": {},
   "source": [
    "### distance features"
   ]
  },
  {
   "cell_type": "code",
   "execution_count": 6,
   "id": "c30b248a",
   "metadata": {},
   "outputs": [],
   "source": [
    "train['dist_long'] = train['pickup_longitude'] - train['dropoff_longitude']\n",
    "test['dist_long'] = test['pickup_longitude'] - test['dropoff_longitude']\n",
    "\n",
    "train['dist_lat'] = train['pickup_latitude'] - train['dropoff_latitude']\n",
    "test['dist_lat'] = test['pickup_latitude'] - test['dropoff_latitude']\n",
    "\n",
    "train['dist'] = np.sqrt(np.square(train['dist_long']) + np.square(train['dist_lat']))\n",
    "test['dist'] = np.sqrt(np.square(test['dist_long']) + np.square(test['dist_lat']))"
   ]
  },
  {
   "cell_type": "markdown",
   "id": "17f1885e",
   "metadata": {},
   "source": [
    "### spatial features"
   ]
  },
  {
   "cell_type": "code",
   "execution_count": 7,
   "id": "8353b568",
   "metadata": {},
   "outputs": [],
   "source": [
    "train['pickup_longitude_bin'] = np.round(train['pickup_longitude'], 2)\n",
    "train['pickup_latitude_bin'] = np.round(train['pickup_latitude'], 2)\n",
    "train['dropoff_longitude_bin'] = np.round(train['dropoff_longitude'], 2)\n",
    "train['dropoff_latitude_bin'] = np.round(train['dropoff_latitude'], 2)\n",
    "\n",
    "test['pickup_longitude_bin'] = np.round(test['pickup_longitude'], 2)\n",
    "test['pickup_latitude_bin'] = np.round(test['pickup_latitude'], 2)\n",
    "test['dropoff_longitude_bin'] = np.round(test['dropoff_longitude'], 2)\n",
    "test['dropoff_latitude_bin'] = np.round(test['dropoff_latitude'], 2)"
   ]
  },
  {
   "cell_type": "code",
   "execution_count": 8,
   "id": "83aeed05",
   "metadata": {},
   "outputs": [],
   "source": [
    "a = pd.concat([train, test]).groupby(['pickup_longitude_bin', 'pickup_latitude_bin']).size().reset_index()\n",
    "b = pd.concat([train, test]).groupby(['dropoff_longitude_bin', 'dropoff_latitude_bin']).size().reset_index()\n",
    "\n",
    "train = pd.merge(train, a, on=['pickup_longitude_bin', 'pickup_latitude_bin'], how='left')\n",
    "test = pd.merge(test, a, on = ['pickup_longitude_bin', 'pickup_latitude_bin'], how = 'left')\n",
    "\n",
    "train = pd.merge(train, b, on = ['dropoff_longitude_bin', 'dropoff_latitude_bin'], how = 'left')\n",
    "test = pd.merge(test, b, on = ['dropoff_longitude_bin', 'dropoff_latitude_bin'], how = 'left')"
   ]
  },
  {
   "cell_type": "code",
   "execution_count": 9,
   "id": "d19741e3",
   "metadata": {},
   "outputs": [],
   "source": [
    "train['speed'] = 100000 * train['dist'] / train['trip_duration']\n",
    "\n",
    "a = train[['speed', 'pickup_longitude_bin', 'pickup_latitude_bin']].groupby(['pickup_longitude_bin', 'pickup_latitude_bin']).mean().reset_index()\n",
    "a = a.rename(columns={'speed': 'ave_speed'})\n",
    "b = train[['speed', 'dropoff_longitude_bin', 'dropoff_latitude_bin']].groupby(['dropoff_longitude_bin', 'dropoff_latitude_bin']).mean().reset_index()\n",
    "b = b.rename(columns={'speed': 'ave_speed'})"
   ]
  },
  {
   "cell_type": "code",
   "execution_count": 10,
   "id": "1c7797ff",
   "metadata": {},
   "outputs": [],
   "source": [
    "train = pd.merge(train, a, on=['pickup_longitude_bin', 'pickup_latitude_bin'], how='left')\n",
    "test = pd.merge(test, a, on = ['pickup_longitude_bin', 'pickup_latitude_bin'], how = 'left')\n",
    "\n",
    "train = pd.merge(train, b, on = ['dropoff_longitude_bin', 'dropoff_latitude_bin'], how = 'left')\n",
    "test = pd.merge(test, b, on = ['dropoff_longitude_bin', 'dropoff_latitude_bin'], how = 'left')"
   ]
  },
  {
   "cell_type": "code",
   "execution_count": 11,
   "id": "5273f4c3",
   "metadata": {},
   "outputs": [],
   "source": [
    "train = train.drop(['speed', 'pickup_longitude_bin', 'pickup_latitude_bin', 'dropoff_longitude_bin', 'dropoff_latitude_bin'], axis = 1)\n",
    "test = test.drop(['pickup_longitude_bin', 'pickup_latitude_bin', 'dropoff_longitude_bin', 'dropoff_latitude_bin'], axis = 1)"
   ]
  },
  {
   "cell_type": "markdown",
   "id": "571e2bbd",
   "metadata": {},
   "source": [
    "### weather data"
   ]
  },
  {
   "cell_type": "code",
   "execution_count": 12,
   "id": "a2c59895",
   "metadata": {},
   "outputs": [],
   "source": [
    "weather = pd.read_csv(data_dir / 'KNYC_Metars.csv')\n",
    "weather['Time'] = pd.to_datetime(weather['Time'])\n",
    "weather['year'] = weather['Time'].dt.year\n",
    "weather['month'] = weather['Time'].dt.month\n",
    "weather['day'] = weather['Time'].dt.day\n",
    "weather['hour'] = weather['Time'].dt.hour\n",
    "weather = weather[weather['year'] == 2016]"
   ]
  },
  {
   "cell_type": "code",
   "execution_count": 13,
   "id": "54c99f3d",
   "metadata": {},
   "outputs": [],
   "source": [
    "train = pd.merge(train, weather[['Temp.', 'month', 'day', 'hour']], on=['month', 'day', 'hour'], how='left')\n",
    "test = pd.merge(test, weather[['Temp.', 'month', 'day', 'hour']], on=['month', 'day', 'hour'], how='left')"
   ]
  },
  {
   "cell_type": "markdown",
   "id": "66953d91",
   "metadata": {},
   "source": [
    "### train/test features"
   ]
  },
  {
   "cell_type": "code",
   "execution_count": 14,
   "id": "be1184bb",
   "metadata": {},
   "outputs": [],
   "source": [
    "xtrain = train.drop(['id', 'pickup_datetime', 'dropoff_datetime', 'trip_duration'], axis=1).values\n",
    "xtest = test.drop(['id', 'pickup_datetime'], axis=1).values\n",
    "ytrain = train['trip_duration'].values\n",
    "id_train = train['id'].values\n",
    "id_test = test['id'].values\n",
    "col_lst = train.drop(['id', 'pickup_datetime', 'dropoff_datetime', 'trip_duration'], axis=1).columns\n",
    "del(train, test)"
   ]
  },
  {
   "cell_type": "markdown",
   "id": "090b88da",
   "metadata": {},
   "source": [
    "### xgb parameters"
   ]
  },
  {
   "cell_type": "code",
   "execution_count": 15,
   "id": "8b86cf39",
   "metadata": {},
   "outputs": [],
   "source": [
    "params = {\n",
    "    'booster':            'gbtree',\n",
    "    'objective':          'reg:linear',\n",
    "    'learning_rate':      0.1,\n",
    "    'max_depth':          14,\n",
    "    'subsample':          0.8,\n",
    "    'colsample_bytree':   0.7,\n",
    "    'colsample_bylevel':  0.7,\n",
    "    'silent':             1\n",
    "}\n"
   ]
  },
  {
   "cell_type": "markdown",
   "id": "d596c2ad",
   "metadata": {},
   "source": [
    "### training"
   ]
  },
  {
   "cell_type": "code",
   "execution_count": 16,
   "id": "482ff3f7",
   "metadata": {},
   "outputs": [
    {
     "name": "stdout",
     "output_type": "stream",
     "text": [
      "[12:15:01] WARNING: c:\\ci\\xgboost-split_1638290375667\\work\\src\\objective\\regression_obj.cu:188: reg:linear is now deprecated in favor of reg:squarederror.\n",
      "[12:15:01] WARNING: ..\\src\\learner.cc:576: \n",
      "Parameters: { \"silent\" } might not be used.\n",
      "\n",
      "  This could be a false alarm, with some parameters getting used by language bindings but\n",
      "  then being mistakenly passed down to XGBoost core, or some parameter actually being used\n",
      "  but getting flagged wrongly here. Please open an issue if you find any such cases.\n",
      "\n",
      "\n"
     ]
    }
   ],
   "source": [
    "nrounds = 200\n",
    "\n",
    "dtrain = xgb.DMatrix(xtrain, np.log(ytrain+1))\n",
    "gbm = xgb.train(params, dtrain, num_boost_round=nrounds)"
   ]
  },
  {
   "cell_type": "markdown",
   "id": "ef6c4882",
   "metadata": {},
   "source": [
    "### test predict"
   ]
  },
  {
   "cell_type": "code",
   "execution_count": 17,
   "id": "14ac03a5",
   "metadata": {},
   "outputs": [],
   "source": [
    "pred_test = np.exp(gbm.predict(xgb.DMatrix(xtest))) - 1"
   ]
  },
  {
   "cell_type": "code",
   "execution_count": 18,
   "id": "cd1be4a0",
   "metadata": {},
   "outputs": [],
   "source": [
    "df = pd.DataFrame({'id': id_test, 'trip_duration': pred_test})\n",
    "df = df.set_index('id')\n",
    "df.to_csv('C:/Users/sinjy/jupyter_notebook/datasets/kaggle_predict/sub_bench.csv', index=True)"
   ]
  },
  {
   "cell_type": "markdown",
   "id": "fce058c9",
   "metadata": {},
   "source": [
    "### test score: 0.38573"
   ]
  },
  {
   "cell_type": "markdown",
   "id": "e4206b64",
   "metadata": {},
   "source": [
    "### feature importance"
   ]
  },
  {
   "cell_type": "code",
   "execution_count": 20,
   "id": "f0c57707",
   "metadata": {},
   "outputs": [
    {
     "data": {
      "text/plain": [
       "dict_values([17502.0, 31043.0, 125100.0, 104542.0, 93079.0, 87271.0, 918.0, 25499.0, 52281.0, 32949.0, 46725.0, 55143.0, 70639.0, 79861.0, 88862.0, 25235.0, 30698.0, 26505.0, 28694.0, 57053.0])"
      ]
     },
     "execution_count": 20,
     "metadata": {},
     "output_type": "execute_result"
    }
   ],
   "source": [
    "gbm.get_score().values()"
   ]
  },
  {
   "cell_type": "code",
   "execution_count": 25,
   "id": "d465debe",
   "metadata": {},
   "outputs": [
    {
     "data": {
      "text/plain": [
       "20"
      ]
     },
     "execution_count": 25,
     "metadata": {},
     "output_type": "execute_result"
    }
   ],
   "source": [
    "len(col_lst)"
   ]
  },
  {
   "cell_type": "code",
   "execution_count": 28,
   "id": "d3fe8c55",
   "metadata": {},
   "outputs": [
    {
     "data": {
      "image/png": "[encoded data removed]",
      "text/plain": [
       "<Figure size 720x432 with 1 Axes>"
      ]
     },
     "metadata": {
      "needs_background": "light"
     },
     "output_type": "display_data"
    }
   ],
   "source": [
    "import matplotlib.pyplot as plt\n",
    "fig, ax = plt.subplots(figsize=(10, 6))\n",
    "plt.bar(np.arange(len(gbm.get_score())), gbm.get_score().values())\n",
    "plt.xticks(np.arange(len(gbm.get_score())), list(col_lst), rotation=90)\n",
    "plt.show()"
   ]
  }
 ],
 "metadata": {
  "kernelspec": {
   "display_name": "machine-learning",
   "language": "python",
   "name": "machine-learning"
  },
  "language_info": {
   "codemirror_mode": {
    "name": "ipython",
    "version": 3
   },
   "file_extension": ".py",
   "mimetype": "text/x-python",
   "name": "python",
   "nbconvert_exporter": "python",
   "pygments_lexer": "ipython3",
   "version": "3.7.11"
  }
 },
 "nbformat": 4,
 "nbformat_minor": 5
}
