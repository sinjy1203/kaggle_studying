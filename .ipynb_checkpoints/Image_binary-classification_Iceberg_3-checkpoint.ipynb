{
 "cells": [
  {
   "cell_type": "markdown",
   "id": "4e4e66df",
   "metadata": {},
   "source": [
    "# Stacking "
   ]
  },
  {
   "cell_type": "code",
   "execution_count": 1,
   "id": "10cbb267",
   "metadata": {},
   "outputs": [
    {
     "data": {
      "text/plain": [
       "['statoil-iceberg-classifier-challenge',\n",
       " 'statoil-iceberg-submissions',\n",
       " 'submission38-lb01448']"
      ]
     },
     "execution_count": 1,
     "metadata": {},
     "output_type": "execute_result"
    }
   ],
   "source": [
    "import numpy as np\n",
    "import pandas as pd\n",
    "from pathlib import Path\n",
    "import os\n",
    "\n",
    "root_dir = Path('C:/Users/sinjy/jupyter_notebook/datasets')\n",
    "data_dir = root_dir / 'kaggle_datasets' / 'Iceberg'\n",
    "predict_dir = root_dir / 'kaggle_predict'\n",
    "\n",
    "os.listdir(data_dir)"
   ]
  },
  {
   "cell_type": "code",
   "execution_count": 2,
   "id": "25d09c8f",
   "metadata": {},
   "outputs": [
    {
     "data": {
      "text/plain": [
       "['sub_200_ens_densenet.csv',\n",
       " 'sub_blend009.csv',\n",
       " 'sub_fcn.csv',\n",
       " 'sub_keras_beginner.csv',\n",
       " 'sub_TF_keras.csv']"
      ]
     },
     "execution_count": 2,
     "metadata": {},
     "output_type": "execute_result"
    }
   ],
   "source": [
    "os.listdir(data_dir / 'statoil-iceberg-submissions')"
   ]
  },
  {
   "cell_type": "code",
   "execution_count": 3,
   "id": "0c7d9a2b",
   "metadata": {},
   "outputs": [
    {
     "data": {
      "text/plain": [
       "['submission38.csv', 'submission43.csv']"
      ]
     },
     "execution_count": 3,
     "metadata": {},
     "output_type": "execute_result"
    }
   ],
   "source": [
    "os.listdir(data_dir / 'submission38-lb01448')"
   ]
  },
  {
   "cell_type": "markdown",
   "id": "21b79d54",
   "metadata": {},
   "source": [
    "## pytorch CNN DenseNet Ensemble\n",
    "## ==> sub_200_ens_densenet.csv"
   ]
  },
  {
   "cell_type": "code",
   "execution_count": 4,
   "id": "dfdc85ac",
   "metadata": {},
   "outputs": [],
   "source": [
    "from __future__ import print_function\n",
    "from __future__ import division\n",
    "\n",
    "import numpy as np\n",
    "import pandas as pd\n",
    "\n",
    "import torch\n",
    "import sys\n",
    "from torch.utils.data.dataset import Dataset\n",
    "from torch.utils.data import DataLoader\n",
    "from torchvision import transforms\n",
    "from torch import nn\n",
    "import torch.nn.functional as F\n",
    "import torch.optim as optim\n",
    "from torch.autograd import Variable\n",
    "\n",
    "from sklearn import metrics\n",
    "from sklearn.metrics import roc_auc_score, log_loss, roc_curve, auc\n",
    "from sklearn.model_selection import StratifiedKFold, ShuffleSplit, cross_val_score, train_test_split\n",
    "from sklearn.utils import shuffle\n",
    "\n",
    "import logging\n",
    "import psutil\n",
    "import os\n",
    "import scipy.signal\n",
    "import random\n",
    "from datetime import datetime\n",
    "from scipy import signal\n",
    "import scipy"
   ]
  },
  {
   "cell_type": "code",
   "execution_count": 6,
   "id": "dd346654",
   "metadata": {},
   "outputs": [],
   "source": [
    "use_cuda = torch.cuda.is_available()\n",
    "FloatTensor = torch.cuda.FloatTensor if use_cuda else torch.FloatTensor\n",
    "LongTensor = torch.cuda.LongTensor if use_cuda else torch.LongTensor\n",
    "Tensor = FloatTensor"
   ]
  },
  {
   "cell_type": "code",
   "execution_count": 10,
   "id": "b829fb07",
   "metadata": {},
   "outputs": [],
   "source": [
    "handler = logging.basicConfig(level=logging.INFO)\n",
    "lgr = logging.getLogger(__name__)"
   ]
  },
  {
   "cell_type": "code",
   "execution_count": 28,
   "id": "1a11d425",
   "metadata": {},
   "outputs": [
    {
     "name": "stdout",
     "output_type": "stream",
     "text": [
      "3.7.11 (default, Jul 27 2021, 09:42:29) [MSC v.1916 64 bit (AMD64)]\n",
      "8.3\n",
      "svmem(total=16980230144, available=10197516288, percent=39.9, used=6782713856, free=10197516288)\n",
      "memory GB: 0.19099044799804688\n"
     ]
    }
   ],
   "source": [
    "def cpuStats():\n",
    "    print(sys.version) ## python version\n",
    "    print(psutil.cpu_percent())  ## present cpu utilization rate\n",
    "    print(psutil.virtual_memory())  ## memory\n",
    "    pid = os.getpid()\n",
    "    py = psutil.Process(pid)\n",
    "    memoryUse = py.memory_info()[0] / 2. ** 30\n",
    "    print('memory GB:', memoryUse)\n",
    "    \n",
    "cpuStats()"
   ]
  },
  {
   "cell_type": "markdown",
   "id": "d1e21f6c",
   "metadata": {},
   "source": [
    "# os.getpid() 부터"
   ]
  },
  {
   "cell_type": "code",
   "execution_count": 27,
   "id": "b6d0d867",
   "metadata": {},
   "outputs": [
    {
     "data": {
      "text/plain": [
       "15.814071655273438"
      ]
     },
     "execution_count": 27,
     "metadata": {},
     "output_type": "execute_result"
    }
   ],
   "source": [
    "psutil.virtual_memory().total / 1024**3"
   ]
  }
 ],
 "metadata": {
  "kernelspec": {
   "display_name": "machine-learning",
   "language": "python",
   "name": "machine-learning"
  },
  "language_info": {
   "codemirror_mode": {
    "name": "ipython",
    "version": 3
   },
   "file_extension": ".py",
   "mimetype": "text/x-python",
   "name": "python",
   "nbconvert_exporter": "python",
   "pygments_lexer": "ipython3",
   "version": "3.7.11"
  }
 },
 "nbformat": 4,
 "nbformat_minor": 5
}
