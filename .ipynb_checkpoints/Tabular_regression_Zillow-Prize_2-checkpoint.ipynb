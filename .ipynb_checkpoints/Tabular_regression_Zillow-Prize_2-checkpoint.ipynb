{
 "cells": [
  {
   "cell_type": "code",
   "execution_count": 1,
   "id": "c0c45438",
   "metadata": {},
   "outputs": [
    {
     "name": "stdout",
     "output_type": "stream",
     "text": [
      "Loading data ...\n"
     ]
    },
    {
     "name": "stderr",
     "output_type": "stream",
     "text": [
      "C:\\Users\\sinjy\\anaconda3\\envs\\machine-learning\\lib\\site-packages\\IPython\\core\\interactiveshell.py:3441: DtypeWarning: Columns (22,32,34,49,55) have mixed types.Specify dtype option on import or set low_memory=False.\n",
      "  exec(code_obj, self.user_global_ns, self.user_ns)\n"
     ]
    }
   ],
   "source": [
    "import numpy as np\n",
    "import pandas as pd\n",
    "import xgboost as xgb\n",
    "import gc\n",
    "from pathlib import Path\n",
    "\n",
    "print('Loading data ...')\n",
    "\n",
    "root_dir = Path('C:/Users/sinjy/jupyter_notebook/datasets')\n",
    "data_dir = root_dir / 'kaggle_datasets' / 'Zillow-Price'\n",
    "predict_dir = root_dir / 'kaggle_predict'\n",
    "\n",
    "train = pd.read_csv(data_dir / 'train_2016_v2.csv')\n",
    "prop = pd.read_csv(data_dir / 'properties_2016.csv')\n",
    "sample = pd.read_csv(data_dir / 'sample_submission.csv')"
   ]
  },
  {
   "cell_type": "code",
   "execution_count": 2,
   "id": "50fa40d9",
   "metadata": {},
   "outputs": [
    {
     "name": "stdout",
     "output_type": "stream",
     "text": [
      "Binding to float32\n"
     ]
    }
   ],
   "source": [
    "print('Binding to float32')\n",
    "\n",
    "for c, dtype in zip(prop.columns, prop.dtypes):\n",
    "    if dtype == np.float64:\n",
    "        prop[c] = prop[c].astype(np.float32)"
   ]
  },
  {
   "cell_type": "markdown",
   "id": "84e83642",
   "metadata": {},
   "source": [
    "### training set"
   ]
  },
  {
   "cell_type": "code",
   "execution_count": 3,
   "id": "eac9d3d1",
   "metadata": {},
   "outputs": [
    {
     "data": {
      "text/plain": [
       "((90275, 55), (90275,))"
      ]
     },
     "execution_count": 3,
     "metadata": {},
     "output_type": "execute_result"
    }
   ],
   "source": [
    "df_train = train.merge(prop, how='left', on='parcelid')\n",
    "\n",
    "x_train = df_train.drop(['parcelid', 'logerror', 'transactiondate', 'propertyzoningdesc', 'propertycountylandusecode'], axis=1)\n",
    "y_train = df_train['logerror'].values\n",
    "x_train.shape, y_train.shape"
   ]
  },
  {
   "cell_type": "code",
   "execution_count": 4,
   "id": "9fc988bc",
   "metadata": {},
   "outputs": [
    {
     "data": {
      "text/plain": [
       "0"
      ]
     },
     "execution_count": 4,
     "metadata": {},
     "output_type": "execute_result"
    }
   ],
   "source": [
    "train_columns = x_train.columns\n",
    "\n",
    "for c in x_train.dtypes[x_train.dtypes == object].index.values:\n",
    "    x_train[c] = (x_train[c] == True)\n",
    "    \n",
    "del df_train\n",
    "gc.collect()"
   ]
  },
  {
   "cell_type": "code",
   "execution_count": 5,
   "id": "4735b607",
   "metadata": {},
   "outputs": [],
   "source": [
    "split = 80000\n",
    "x_train, y_train, x_valid, y_valid = x_train[:split], y_train[:split], x_train[split:], y_train[split:]"
   ]
  },
  {
   "cell_type": "code",
   "execution_count": 6,
   "id": "bdff056c",
   "metadata": {},
   "outputs": [
    {
     "data": {
      "text/plain": [
       "49"
      ]
     },
     "execution_count": 6,
     "metadata": {},
     "output_type": "execute_result"
    }
   ],
   "source": [
    "d_train = xgb.DMatrix(x_train, label=y_train)\n",
    "d_valid = xgb.DMatrix(x_valid, label=y_valid)\n",
    "\n",
    "del x_train, x_valid\n",
    "gc.collect()"
   ]
  },
  {
   "cell_type": "markdown",
   "id": "1c1d4c1d",
   "metadata": {},
   "source": [
    "### Training"
   ]
  },
  {
   "cell_type": "code",
   "execution_count": 7,
   "id": "b267ae59",
   "metadata": {},
   "outputs": [],
   "source": [
    "params = {}\n",
    "params['eta'] = 0.02\n",
    "params['objective'] = 'reg:linear'\n",
    "params['eval_metric'] = 'mae'\n",
    "params['max_depth'] = 4\n",
    "params['silent'] = 1"
   ]
  },
  {
   "cell_type": "code",
   "execution_count": 8,
   "id": "86d8fc91",
   "metadata": {},
   "outputs": [
    {
     "name": "stdout",
     "output_type": "stream",
     "text": [
      "[14:57:40] WARNING: c:\\ci\\xgboost-split_1638290375667\\work\\src\\objective\\regression_obj.cu:188: reg:linear is now deprecated in favor of reg:squarederror.\n",
      "[14:57:40] WARNING: ..\\src\\learner.cc:576: \n",
      "Parameters: { \"silent\" } might not be used.\n",
      "\n",
      "  This could be a false alarm, with some parameters getting used by language bindings but\n",
      "  then being mistakenly passed down to XGBoost core, or some parameter actually being used\n",
      "  but getting flagged wrongly here. Please open an issue if you find any such cases.\n",
      "\n",
      "\n",
      "[0]\ttrain-mae:0.48806\tvalid-mae:0.48112\n",
      "[10]\ttrain-mae:0.40222\tvalid-mae:0.39544\n",
      "[20]\ttrain-mae:0.33268\tvalid-mae:0.32610\n",
      "[30]\ttrain-mae:0.27652\tvalid-mae:0.27013\n",
      "[40]\ttrain-mae:0.23132\tvalid-mae:0.22521\n",
      "[50]\ttrain-mae:0.19506\tvalid-mae:0.18933\n",
      "[60]\ttrain-mae:0.16612\tvalid-mae:0.16073\n",
      "[70]\ttrain-mae:0.14312\tvalid-mae:0.13805\n",
      "[80]\ttrain-mae:0.12497\tvalid-mae:0.12024\n",
      "[90]\ttrain-mae:0.11078\tvalid-mae:0.10635\n",
      "[100]\ttrain-mae:0.09982\tvalid-mae:0.09570\n",
      "[110]\ttrain-mae:0.09145\tvalid-mae:0.08761\n",
      "[120]\ttrain-mae:0.08514\tvalid-mae:0.08160\n",
      "[130]\ttrain-mae:0.08045\tvalid-mae:0.07723\n",
      "[140]\ttrain-mae:0.07700\tvalid-mae:0.07408\n",
      "[150]\ttrain-mae:0.07450\tvalid-mae:0.07184\n",
      "[160]\ttrain-mae:0.07268\tvalid-mae:0.07025\n",
      "[170]\ttrain-mae:0.07136\tvalid-mae:0.06914\n",
      "[180]\ttrain-mae:0.07040\tvalid-mae:0.06839\n",
      "[190]\ttrain-mae:0.06970\tvalid-mae:0.06788\n",
      "[200]\ttrain-mae:0.06919\tvalid-mae:0.06753\n",
      "[210]\ttrain-mae:0.06882\tvalid-mae:0.06729\n",
      "[220]\ttrain-mae:0.06854\tvalid-mae:0.06714\n",
      "[230]\ttrain-mae:0.06832\tvalid-mae:0.06703\n",
      "[240]\ttrain-mae:0.06816\tvalid-mae:0.06696\n",
      "[250]\ttrain-mae:0.06803\tvalid-mae:0.06691\n",
      "[260]\ttrain-mae:0.06794\tvalid-mae:0.06689\n",
      "[270]\ttrain-mae:0.06786\tvalid-mae:0.06687\n",
      "[280]\ttrain-mae:0.06779\tvalid-mae:0.06686\n",
      "[290]\ttrain-mae:0.06774\tvalid-mae:0.06687\n",
      "[300]\ttrain-mae:0.06769\tvalid-mae:0.06686\n",
      "[310]\ttrain-mae:0.06765\tvalid-mae:0.06686\n",
      "[320]\ttrain-mae:0.06762\tvalid-mae:0.06687\n",
      "[330]\ttrain-mae:0.06759\tvalid-mae:0.06687\n",
      "[340]\ttrain-mae:0.06757\tvalid-mae:0.06688\n",
      "[350]\ttrain-mae:0.06754\tvalid-mae:0.06689\n",
      "[360]\ttrain-mae:0.06752\tvalid-mae:0.06689\n",
      "[370]\ttrain-mae:0.06750\tvalid-mae:0.06690\n",
      "[380]\ttrain-mae:0.06749\tvalid-mae:0.06691\n",
      "[390]\ttrain-mae:0.06747\tvalid-mae:0.06692\n",
      "[400]\ttrain-mae:0.06745\tvalid-mae:0.06693\n",
      "[401]\ttrain-mae:0.06745\tvalid-mae:0.06693\n"
     ]
    }
   ],
   "source": [
    "watchlist = [(d_train, 'train'), (d_valid, 'valid')]\n",
    "clf = xgb.train(params, d_train, 10000, watchlist, early_stopping_rounds=100, verbose_eval=10)\n",
    "\n",
    "del d_train, d_valid"
   ]
  },
  {
   "cell_type": "markdown",
   "id": "649b6fbc",
   "metadata": {},
   "source": [
    "### Building test set"
   ]
  },
  {
   "cell_type": "code",
   "execution_count": 9,
   "id": "f4f23f9f",
   "metadata": {},
   "outputs": [
    {
     "data": {
      "text/plain": [
       "0"
      ]
     },
     "execution_count": 9,
     "metadata": {},
     "output_type": "execute_result"
    }
   ],
   "source": [
    "sample['parcelid'] = sample['ParcelId']\n",
    "df_test = sample.merge(prop, on='parcelid', how='left')\n",
    "del prop\n",
    "gc.collect()"
   ]
  },
  {
   "cell_type": "code",
   "execution_count": 10,
   "id": "0da08b81",
   "metadata": {},
   "outputs": [
    {
     "name": "stderr",
     "output_type": "stream",
     "text": [
      "C:\\Users\\sinjy\\anaconda3\\envs\\machine-learning\\lib\\site-packages\\ipykernel_launcher.py:3: SettingWithCopyWarning: \n",
      "A value is trying to be set on a copy of a slice from a DataFrame.\n",
      "Try using .loc[row_indexer,col_indexer] = value instead\n",
      "\n",
      "See the caveats in the documentation: https://pandas.pydata.org/pandas-docs/stable/user_guide/indexing.html#returning-a-view-versus-a-copy\n",
      "  This is separate from the ipykernel package so we can avoid doing imports until\n"
     ]
    },
    {
     "data": {
      "text/plain": [
       "21"
      ]
     },
     "execution_count": 10,
     "metadata": {},
     "output_type": "execute_result"
    }
   ],
   "source": [
    "x_test = df_test[train_columns]\n",
    "for c in x_test.dtypes[x_test.dtypes==object].index.values:\n",
    "    x_test[c] = (x_test[c] == True)\n",
    "\n",
    "del df_test, sample\n",
    "gc.collect()"
   ]
  },
  {
   "cell_type": "code",
   "execution_count": 11,
   "id": "0dc9dd15",
   "metadata": {},
   "outputs": [
    {
     "data": {
      "text/plain": [
       "28"
      ]
     },
     "execution_count": 11,
     "metadata": {},
     "output_type": "execute_result"
    }
   ],
   "source": [
    "d_test = xgb.DMatrix(x_test)\n",
    "del x_test\n",
    "gc.collect()"
   ]
  },
  {
   "cell_type": "markdown",
   "id": "7c734da7",
   "metadata": {},
   "source": [
    "### predict"
   ]
  },
  {
   "cell_type": "code",
   "execution_count": 12,
   "id": "8205da69",
   "metadata": {},
   "outputs": [
    {
     "data": {
      "text/plain": [
       "21"
      ]
     },
     "execution_count": 12,
     "metadata": {},
     "output_type": "execute_result"
    }
   ],
   "source": [
    "p_test = clf.predict(d_test)\n",
    "del d_test\n",
    "gc.collect()"
   ]
  },
  {
   "cell_type": "code",
   "execution_count": 15,
   "id": "92d854bc",
   "metadata": {},
   "outputs": [],
   "source": [
    "sub = pd.read_csv(data_dir / 'sample_submission.csv')\n",
    "for c in sub.columns[sub.columns != 'ParcelId']:\n",
    "    sub[c] = p_test\n",
    "    \n",
    "sub.to_csv(predict_dir / 'xgb_starter.csv', index=False, float_format='%.4f')"
   ]
  },
  {
   "cell_type": "markdown",
   "id": "eb05e5c6",
   "metadata": {},
   "source": [
    "### test score: 0.06522"
   ]
  }
 ],
 "metadata": {
  "kernelspec": {
   "display_name": "machine-learning",
   "language": "python",
   "name": "machine-learning"
  },
  "language_info": {
   "codemirror_mode": {
    "name": "ipython",
    "version": 3
   },
   "file_extension": ".py",
   "mimetype": "text/x-python",
   "name": "python",
   "nbconvert_exporter": "python",
   "pygments_lexer": "ipython3",
   "version": "3.7.11"
  }
 },
 "nbformat": 4,
 "nbformat_minor": 5
}
